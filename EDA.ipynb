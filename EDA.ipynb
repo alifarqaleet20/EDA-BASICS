{
  "cells": [
    {
      "cell_type": "markdown",
      "id": "07ba3f8a-8cc8-45b4-b2ac-ba800d88fadf",
      "metadata": {
        "id": "07ba3f8a-8cc8-45b4-b2ac-ba800d88fadf"
      },
      "source": [
        "**Exploratory Data Analysis (EDA)** is a process of analyzing data to summarize its main characteristics, identify patterns, anomalies, and relationships, primarily through visual methods."
      ]
    },
    {
      "cell_type": "markdown",
      "id": "35a94626-10fc-4e01-a755-20ea560b0d9e",
      "metadata": {
        "id": "35a94626-10fc-4e01-a755-20ea560b0d9e"
      },
      "source": [
        "#### **Imports**"
      ]
    },
    {
      "cell_type": "code",
      "execution_count": null,
      "id": "e7d226e6-f36b-4141-bc61-f28c1f4b6cb1",
      "metadata": {
        "id": "e7d226e6-f36b-4141-bc61-f28c1f4b6cb1"
      },
      "outputs": [],
      "source": [
        "import numpy as np\n",
        "import scipy as sp\n",
        "import pandas as pd\n",
        "import matplotlib.pyplot as plt"
      ]
    },
    {
      "cell_type": "markdown",
      "id": "924f899d-57f9-40a1-b3f5-995651e478ee",
      "metadata": {
        "id": "924f899d-57f9-40a1-b3f5-995651e478ee"
      },
      "source": [
        "#### **Categorical Data**"
      ]
    },
    {
      "cell_type": "code",
      "execution_count": null,
      "id": "d109c2f8-72f5-49eb-b46e-d7b5d39626eb",
      "metadata": {
        "id": "d109c2f8-72f5-49eb-b46e-d7b5d39626eb"
      },
      "outputs": [],
      "source": [
        "text = \"Lorem ipsum dolor sit amet, consectetur adipiscing elit.\\\n",
        "Sed aliquet metus id massa viverra, at ultrices quam laoreet.\\\n",
        "Sed ac mauris ut nisi cursus tincidunt. Integer nec risus nec lectus posuere condimentum.\\\n",
        "Proin vitae tempor ipsum.Lorem ipsum dolor sit amet, consectetur adipiscing elit.\\\n",
        "Sed aliquet metus id massa viverra, at ultrices quam laoreet.\"\n",
        "\n",
        "letters = list(text.lower())"
      ]
    },
    {
      "cell_type": "markdown",
      "id": "2c282289-7351-4f9c-98bc-9f70d8ec96b6",
      "metadata": {
        "id": "2c282289-7351-4f9c-98bc-9f70d8ec96b6"
      },
      "source": [
        "**Frequency**"
      ]
    },
    {
      "cell_type": "code",
      "execution_count": null,
      "id": "db23b026-b674-4221-8326-91a3e64937c6",
      "metadata": {
        "id": "db23b026-b674-4221-8326-91a3e64937c6",
        "outputId": "322803dd-f8c9-4f20-b423-101908bb3c10"
      },
      "outputs": [
        {
          "name": "stdout",
          "output_type": "stream",
          "text": [
            "[' ' ',' '.' 'a' 'c' 'd' 'e' 'g' 'i' 'l' 'm' 'n' 'o' 'p' 'q' 'r' 's' 't'\n",
            " 'u' 'v']\n",
            "[48  4  7 21 15 11 35  3 31 13 17 13 14  8  4 21 28 28 22  5]\n"
          ]
        }
      ],
      "source": [
        "# count frequency\n",
        "\n",
        "letter, count = np.unique(letters, return_counts=True)\n",
        "print(letter)\n",
        "print(count)"
      ]
    },
    {
      "cell_type": "code",
      "execution_count": null,
      "id": "4a0d9c88-b60e-43ae-a482-7ed064d207e7",
      "metadata": {
        "id": "4a0d9c88-b60e-43ae-a482-7ed064d207e7",
        "outputId": "e188590d-5864-4406-df64-2de9d270e3d6"
      },
      "outputs": [
        {
          "data": {
            "image/png": "[encoded data removed]",
            "text/plain": [
              "<Figure size 640x480 with 1 Axes>"
            ]
          },
          "metadata": {},
          "output_type": "display_data"
        }
      ],
      "source": [
        "# bar chart\n",
        "\n",
        "plt.bar(letter, count)\n",
        "plt.show()"
      ]
    },
    {
      "cell_type": "markdown",
      "id": "918cbd79-3ee8-40a6-a37e-9764d40d6ee1",
      "metadata": {
        "id": "918cbd79-3ee8-40a6-a37e-9764d40d6ee1"
      },
      "source": [
        "**Histogram: Numerical to Categorical**"
      ]
    },
    {
      "cell_type": "code",
      "execution_count": null,
      "id": "567b8a02-1df5-4deb-8fa6-4633d28724ce",
      "metadata": {
        "id": "567b8a02-1df5-4deb-8fa6-4633d28724ce",
        "outputId": "399846b3-e99f-48ac-db31-685c64910441"
      },
      "outputs": [
        {
          "data": {
            "text/plain": [
              "array([3.08662518, 3.26544711, 2.24563181, 3.9862305 , 2.95269377,\n",
              "       2.36774684, 2.27641401, 2.38651727, 2.10457284, 2.6485025 ,\n",
              "       3.44953156, 3.30077596, 2.21274404, 2.39678746, 2.3581219 ,\n",
              "       1.52812276, 3.06987362, 3.2126149 , 2.27239118, 2.60975785,\n",
              "       3.14836359, 2.94719542, 2.42827472, 2.66867486, 2.924854  ,\n",
              "       1.48608718, 2.65284077, 2.34731624, 2.00883344, 1.76296031,\n",
              "       2.18488063, 2.09039033, 3.07314844, 2.06723518, 2.77232265,\n",
              "       3.11914764, 2.47422807, 1.33751073, 2.40326876, 2.63289623,\n",
              "       2.14704888, 1.65949998, 2.85498724, 2.76412352, 2.73031668,\n",
              "       1.95784058, 2.99976254, 2.63286195, 3.08409995, 3.0434693 ,\n",
              "       2.43722644, 2.55407063, 3.0696722 , 2.44596383, 1.69832902,\n",
              "       2.81686354, 2.60296346, 2.97151486, 2.45846895, 1.63713062,\n",
              "       2.0160222 , 2.47297593, 2.55439057, 1.89556457, 2.3924355 ,\n",
              "       2.56174243, 1.98306166, 3.15212107, 2.11618921, 2.97388875,\n",
              "       3.10394763, 2.45741679, 3.59031272, 2.20002691, 1.74499063,\n",
              "       3.09640544, 3.43596222, 2.44168599, 2.16159237, 2.60612682,\n",
              "       2.24022118, 2.5466111 , 1.90942125, 2.41976468, 2.7868236 ,\n",
              "       2.42105065, 3.25851755, 2.21569891, 2.15884595, 2.15214024,\n",
              "       1.8758734 , 2.1155889 , 2.77610744, 2.97529158, 2.92720952,\n",
              "       2.48848938, 3.35222181, 1.75003967, 1.9758564 , 2.70789248])"
            ]
          },
          "execution_count": 10,
          "metadata": {},
          "output_type": "execute_result"
        }
      ],
      "source": [
        "gpas = np.random.default_rng().normal(2.5, 0.5, 100)\n",
        "gpas"
      ]
    },
    {
      "cell_type": "code",
      "execution_count": null,
      "id": "36e4d5c8-4533-4da1-ac6c-b50ba301d5a7",
      "metadata": {
        "id": "36e4d5c8-4533-4da1-ac6c-b50ba301d5a7",
        "outputId": "183573f8-8a90-4654-c4b5-ec668694694c"
      },
      "outputs": [
        {
          "data": {
            "image/png": "[encoded data removed]",
            "text/plain": [
              "<Figure size 640x480 with 1 Axes>"
            ]
          },
          "metadata": {},
          "output_type": "display_data"
        }
      ],
      "source": [
        "# histogram\n",
        "\n",
        "plt.hist(gpas, bins=10, width=0.25)\n",
        "plt.show()"
      ]
    },
    {
      "cell_type": "code",
      "execution_count": null,
      "id": "6c6b6cd4-6e03-4829-bf87-a1671c9d3dcd",
      "metadata": {
        "id": "6c6b6cd4-6e03-4829-bf87-a1671c9d3dcd",
        "outputId": "461ab7b4-d780-4005-8feb-51f49450c349"
      },
      "outputs": [
        {
          "data": {
            "image/png": "[encoded data removed]",
            "text/plain": [
              "<Figure size 640x480 with 1 Axes>"
            ]
          },
          "metadata": {},
          "output_type": "display_data"
        }
      ],
      "source": [
        "# histogram bins\n",
        "\n",
        "bins = [0, 1, 1.2, 1.5, 1.8, 2.1, 2.4, 2.7, 3.0, 3.3, 3.6, 4.0]\n",
        "plt.hist(gpas, bins=bins, width=0.25)\n",
        "plt.show()"
      ]
    },
    {
      "cell_type": "markdown",
      "id": "10bad961-6474-4c74-ac3e-40abbcc52a5e",
      "metadata": {
        "id": "10bad961-6474-4c74-ac3e-40abbcc52a5e"
      },
      "source": [
        "#### **Numerical Data**"
      ]
    },
    {
      "cell_type": "code",
      "execution_count": null,
      "id": "d0a20979-7306-45e1-99b0-914c192f4bd4",
      "metadata": {
        "id": "d0a20979-7306-45e1-99b0-914c192f4bd4"
      },
      "outputs": [],
      "source": [
        "data = [2, 13, 8, 7, 11, 23, 11, 2, 16, 18, 11, 8, 1, 28, 12, 11]"
      ]
    },
    {
      "cell_type": "markdown",
      "id": "eca9af13-7044-4a36-83a7-45f99cd6b61c",
      "metadata": {
        "id": "eca9af13-7044-4a36-83a7-45f99cd6b61c"
      },
      "source": [
        "**Central Tendency**"
      ]
    },
    {
      "cell_type": "markdown",
      "id": "35eb46a2-6680-48f6-81f3-40c8bb7debb5",
      "metadata": {
        "id": "35eb46a2-6680-48f6-81f3-40c8bb7debb5"
      },
      "source": [
        "**Mean:** Arithmatic average of all values"
      ]
    },
    {
      "cell_type": "code",
      "execution_count": null,
      "id": "80e19ad8-ca6a-49fb-806a-0c06ab9ce22e",
      "metadata": {
        "id": "80e19ad8-ca6a-49fb-806a-0c06ab9ce22e",
        "outputId": "c018d5c0-82dd-4f2f-ad98-42f68f220971"
      },
      "outputs": [
        {
          "data": {
            "text/plain": [
              "11.375"
            ]
          },
          "execution_count": 14,
          "metadata": {},
          "output_type": "execute_result"
        }
      ],
      "source": [
        "# mean\n",
        "\n",
        "np.mean(data)"
      ]
    },
    {
      "cell_type": "markdown",
      "id": "ed0d62fb-9b61-46c5-9765-60e5445caa23",
      "metadata": {
        "id": "ed0d62fb-9b61-46c5-9765-60e5445caa23"
      },
      "source": [
        "**Median:** Middle element of sorted collection"
      ]
    },
    {
      "cell_type": "code",
      "execution_count": null,
      "id": "3eb6a99b-183a-4fcc-b7cc-e2fda033137e",
      "metadata": {
        "id": "3eb6a99b-183a-4fcc-b7cc-e2fda033137e",
        "outputId": "10ca6b5d-3b84-4a37-ec6a-96e475dabdc6"
      },
      "outputs": [
        {
          "data": {
            "text/plain": [
              "array([ 1,  2,  2,  7,  8,  8, 11, 11, 11, 11, 12, 13, 16, 18, 23, 28])"
            ]
          },
          "execution_count": 17,
          "metadata": {},
          "output_type": "execute_result"
        }
      ],
      "source": [
        "np.sort(data)"
      ]
    },
    {
      "cell_type": "code",
      "execution_count": null,
      "id": "77cf7498-cb09-44ea-8852-e70c4323f52d",
      "metadata": {
        "id": "77cf7498-cb09-44ea-8852-e70c4323f52d",
        "outputId": "f77a8823-2c07-45db-f1dd-ed722d70f61f"
      },
      "outputs": [
        {
          "data": {
            "text/plain": [
              "11.0"
            ]
          },
          "execution_count": 18,
          "metadata": {},
          "output_type": "execute_result"
        }
      ],
      "source": [
        "# median\n",
        "\n",
        "np.median(data)"
      ]
    },
    {
      "cell_type": "markdown",
      "id": "0ef6e2ed-f38a-4542-9d17-69e8144dca10",
      "metadata": {
        "id": "0ef6e2ed-f38a-4542-9d17-69e8144dca10"
      },
      "source": [
        "**Mode:** Most frequent element"
      ]
    },
    {
      "cell_type": "code",
      "execution_count": null,
      "id": "7439e70f-b6a5-4c8c-b97d-987a223d6482",
      "metadata": {
        "id": "7439e70f-b6a5-4c8c-b97d-987a223d6482",
        "outputId": "21189001-86ef-4915-ebff-100bc25bffbf"
      },
      "outputs": [
        {
          "data": {
            "text/plain": [
              "11"
            ]
          },
          "execution_count": 23,
          "metadata": {},
          "output_type": "execute_result"
        }
      ],
      "source": [
        "# mode - using numpy\n",
        "\n",
        "values, counts = np.unique(data, return_counts=True)\n",
        "values[np.argmax(counts)]"
      ]
    },
    {
      "cell_type": "code",
      "execution_count": null,
      "id": "c40711da-1286-486a-ab55-862ab90e65c3",
      "metadata": {
        "id": "c40711da-1286-486a-ab55-862ab90e65c3",
        "outputId": "d4ee440f-087b-4eff-9f38-4f7c34e46e83"
      },
      "outputs": [
        {
          "data": {
            "text/plain": [
              "ModeResult(mode=11, count=4)"
            ]
          },
          "execution_count": 24,
          "metadata": {},
          "output_type": "execute_result"
        }
      ],
      "source": [
        "# mode - using scipy\n",
        "\n",
        "sp.stats.mode(data)"
      ]
    },
    {
      "cell_type": "markdown",
      "id": "9e0c111d-f4b6-4efa-92d9-176c6450fc9c",
      "metadata": {
        "id": "9e0c111d-f4b6-4efa-92d9-176c6450fc9c"
      },
      "source": [
        "**Spread**"
      ]
    },
    {
      "cell_type": "markdown",
      "id": "513058cf-84ad-4d6b-a132-84a378508c6a",
      "metadata": {
        "id": "513058cf-84ad-4d6b-a132-84a378508c6a"
      },
      "source": [
        "**Range:** Range of values"
      ]
    },
    {
      "cell_type": "code",
      "execution_count": null,
      "id": "ca0ec2f4-f5c8-4a2e-9498-0c57b87617a9",
      "metadata": {
        "id": "ca0ec2f4-f5c8-4a2e-9498-0c57b87617a9",
        "outputId": "36eb0911-d8f1-44e3-f725-3cc319adb9c0"
      },
      "outputs": [
        {
          "data": {
            "text/plain": [
              "27"
            ]
          },
          "execution_count": 25,
          "metadata": {},
          "output_type": "execute_result"
        }
      ],
      "source": [
        "np.max(data) - np.min(data)"
      ]
    },
    {
      "cell_type": "markdown",
      "id": "aa49d8bd-d86d-4dca-8d03-0b499f7bdd8a",
      "metadata": {
        "id": "aa49d8bd-d86d-4dca-8d03-0b499f7bdd8a"
      },
      "source": [
        "**Variance:** Average deviation of values from mean"
      ]
    },
    {
      "cell_type": "code",
      "execution_count": null,
      "id": "133c0047-a798-490e-a62b-16259e81aebb",
      "metadata": {
        "id": "133c0047-a798-490e-a62b-16259e81aebb",
        "outputId": "c3620658-c91f-499e-d560-bb702b094b05"
      },
      "outputs": [
        {
          "data": {
            "text/plain": [
              "50.359375"
            ]
          },
          "execution_count": 26,
          "metadata": {},
          "output_type": "execute_result"
        }
      ],
      "source": [
        "# variance\n",
        "\n",
        "np.var(data)"
      ]
    },
    {
      "cell_type": "markdown",
      "id": "a0b4178f-75ba-4ae2-a62a-ef4105ef6aed",
      "metadata": {
        "id": "a0b4178f-75ba-4ae2-a62a-ef4105ef6aed"
      },
      "source": [
        "**Standard Deviation:** Square root of variance"
      ]
    },
    {
      "cell_type": "code",
      "execution_count": null,
      "id": "4319d2f5-cefc-419a-a282-67eec8b8566b",
      "metadata": {
        "id": "4319d2f5-cefc-419a-a282-67eec8b8566b",
        "outputId": "9b9a0479-01ed-4e67-9f9b-f5a667695dd5"
      },
      "outputs": [
        {
          "data": {
            "text/plain": [
              "7.096433963618629"
            ]
          },
          "execution_count": 27,
          "metadata": {},
          "output_type": "execute_result"
        }
      ],
      "source": [
        "# standard deviation\n",
        "\n",
        "np.std(data)"
      ]
    },
    {
      "cell_type": "markdown",
      "id": "71388c8c-7e61-4493-876f-deb724ed0cdc",
      "metadata": {
        "id": "71388c8c-7e61-4493-876f-deb724ed0cdc"
      },
      "source": [
        "**Quartiles**\n",
        "\n",
        "- Q1: Element at 1/4th position in sorted collection\n",
        "    \n",
        "- Q2: Element at 1/2th position in sorted collection (Median)\n",
        "    \n",
        "- Q3: Element at 3/4th position in sorted collection\n",
        "    \n",
        "- IQR: Interquartile Range, defined as Q3 - Q1"
      ]
    },
    {
      "cell_type": "code",
      "execution_count": null,
      "id": "02698edd-f079-45b5-8177-71ad71529e8a",
      "metadata": {
        "id": "02698edd-f079-45b5-8177-71ad71529e8a",
        "outputId": "d35ad9e9-776d-45b8-b689-8a8c762cf14c"
      },
      "outputs": [
        {
          "name": "stdout",
          "output_type": "stream",
          "text": [
            "8.0\n",
            "11.0\n",
            "13.75\n"
          ]
        },
        {
          "data": {
            "text/plain": [
              "5.75"
            ]
          },
          "execution_count": 93,
          "metadata": {},
          "output_type": "execute_result"
        }
      ],
      "source": [
        "# quartiles\n",
        "\n",
        "# Q1\n",
        "q1 = np.quantile(data, 0.25)\n",
        "print(q1)\n",
        "\n",
        "# Q2 == median\n",
        "q2 = np.quantile(data, 0.5)\n",
        "print(q2)\n",
        "\n",
        "# Q3\n",
        "q3 = np.quantile(data, 0.75)\n",
        "print(q3)\n",
        "\n",
        "# IQR\n",
        "iqr = q3 - q1\n",
        "iqr"
      ]
    },
    {
      "cell_type": "markdown",
      "id": "365db1b2-bf54-4893-9de3-f2b137cf15e0",
      "metadata": {
        "id": "365db1b2-bf54-4893-9de3-f2b137cf15e0"
      },
      "source": [
        "**Box Plot**\n",
        "\n",
        "- Box denotes Q1, Median, and Q3\n",
        "\n",
        "- Whiskers represent farthest points within 1.5 IQR of median\n",
        "\n",
        "- Points beyond 1.5 IQR are considered outliers"
      ]
    },
    {
      "cell_type": "code",
      "execution_count": null,
      "id": "cdb51541-5a7f-445a-a7c8-7633103863f0",
      "metadata": {
        "id": "cdb51541-5a7f-445a-a7c8-7633103863f0",
        "outputId": "bc4bbe63-c077-4706-d0d5-25d085bcca6f"
      },
      "outputs": [
        {
          "data": {
            "image/png": "[encoded data removed]",
            "text/plain": [
              "<Figure size 640x480 with 1 Axes>"
            ]
          },
          "metadata": {},
          "output_type": "display_data"
        }
      ],
      "source": [
        "# boxplot\n",
        "\n",
        "plt.boxplot(data)\n",
        "plt.show()"
      ]
    },
    {
      "cell_type": "markdown",
      "id": "162cc696-395d-4159-918b-efdb1c15cb71",
      "metadata": {
        "id": "162cc696-395d-4159-918b-efdb1c15cb71"
      },
      "source": [
        "#### **Skewness**"
      ]
    },
    {
      "cell_type": "markdown",
      "id": "21dfb98e-4913-4c60-8572-643d3df695a9",
      "metadata": {
        "id": "21dfb98e-4913-4c60-8572-643d3df695a9"
      },
      "source": [
        "![image39.png](attachment:f6e777fd-40db-4193-85c5-4b7b5c4bf2ed.png)"
      ]
    },
    {
      "cell_type": "code",
      "execution_count": null,
      "id": "518fd4d3-e238-498d-8209-b0a44b8417df",
      "metadata": {
        "id": "518fd4d3-e238-498d-8209-b0a44b8417df"
      },
      "outputs": [],
      "source": [
        "symmetric_data = [1, 2, 3, 4, 5, 6, 7, 8, 9, 10, 11, 12, 13, 14, 15]\n",
        "left_negative_skewed = [1, 2, 2, 3, 4, 5, 6, 7, 8, 8, 9, 9, 9, 10, 11]\n",
        "right_positive_skewed = [1, 2, 2, 3, 3, 3, 4, 4, 5, 6, 7, 8, 9, 10, 12]"
      ]
    },
    {
      "cell_type": "code",
      "execution_count": null,
      "id": "efc08b83-d5b9-400f-8b65-3aa1481de5d8",
      "metadata": {
        "id": "efc08b83-d5b9-400f-8b65-3aa1481de5d8",
        "outputId": "9fe74193-635f-4078-aad0-8a936042d431"
      },
      "outputs": [
        {
          "data": {
            "text/plain": [
              "6.266666666666667"
            ]
          },
          "execution_count": 40,
          "metadata": {},
          "output_type": "execute_result"
        }
      ],
      "source": [
        "np.mean(left_negative_skewed)"
      ]
    },
    {
      "cell_type": "code",
      "execution_count": null,
      "id": "4b1deb3f-188f-4ed2-b5cc-4c7cdd4e2f43",
      "metadata": {
        "id": "4b1deb3f-188f-4ed2-b5cc-4c7cdd4e2f43",
        "outputId": "fd6ffd89-fc2e-424b-9dfc-55d565966214"
      },
      "outputs": [
        {
          "data": {
            "text/plain": [
              "-0.7333333333333334"
            ]
          },
          "execution_count": 49,
          "metadata": {},
          "output_type": "execute_result"
        }
      ],
      "source": [
        "# skew using numpy\n",
        "\n",
        "def np_check_skew(data):\n",
        "    return np.mean(data) - np.median(data)\n",
        "\n",
        "np_check_skew(left_negative_skewed)"
      ]
    },
    {
      "cell_type": "code",
      "execution_count": null,
      "id": "7fe8812f-6131-4839-8573-1124255bccf9",
      "metadata": {
        "id": "7fe8812f-6131-4839-8573-1124255bccf9",
        "outputId": "5ddd81c3-5367-4954-ed21-185407f28558"
      },
      "outputs": [
        {
          "data": {
            "text/plain": [
              "-0.2605761835860759"
            ]
          },
          "execution_count": 48,
          "metadata": {},
          "output_type": "execute_result"
        }
      ],
      "source": [
        "# skew using scipy\n",
        "\n",
        "sp.stats.skew(left_negative_skewed)"
      ]
    },
    {
      "cell_type": "markdown",
      "id": "fe906845-d291-40ac-a2b0-1ef8860d1909",
      "metadata": {
        "id": "fe906845-d291-40ac-a2b0-1ef8860d1909"
      },
      "source": [
        "#### **Kurtosis**"
      ]
    },
    {
      "cell_type": "markdown",
      "id": "2d1405ca-44f4-4380-adf7-62df144e6d8a",
      "metadata": {
        "id": "2d1405ca-44f4-4380-adf7-62df144e6d8a"
      },
      "source": [
        "![0 Get8BSq_o5eu16Lr.png](attachment:2d24ccf1-41bb-4574-a40f-6042b55d7305.png)"
      ]
    },
    {
      "cell_type": "code",
      "execution_count": null,
      "id": "d0add7f7-4079-4ebd-8382-27bda6c735e3",
      "metadata": {
        "id": "d0add7f7-4079-4ebd-8382-27bda6c735e3"
      },
      "outputs": [],
      "source": [
        "rng = np.random.default_rng()\n",
        "normal = rng.normal(size=100)\n",
        "positive = rng.laplace(size=100)\n",
        "negative = rng.uniform(size=100)"
      ]
    },
    {
      "cell_type": "code",
      "execution_count": null,
      "id": "d1ebf1eb-bcff-4dd6-9af8-a9f6efef02ca",
      "metadata": {
        "id": "d1ebf1eb-bcff-4dd6-9af8-a9f6efef02ca",
        "outputId": "90e07e78-8e1a-4896-8dc3-e500d83c2822"
      },
      "outputs": [
        {
          "data": {
            "image/png": "[encoded data removed]",
            "text/plain": [
              "<Figure size 640x480 with 1 Axes>"
            ]
          },
          "metadata": {},
          "output_type": "display_data"
        }
      ],
      "source": [
        "plt.hist(normal, label='Normal', bins=10)\n",
        "plt.show()"
      ]
    },
    {
      "cell_type": "code",
      "execution_count": null,
      "id": "2a9aeeec-a511-4268-9336-66cf7a274942",
      "metadata": {
        "id": "2a9aeeec-a511-4268-9336-66cf7a274942",
        "outputId": "d631af3f-5929-4633-c640-721351ae64b9"
      },
      "outputs": [
        {
          "data": {
            "image/png": "[encoded data removed]",
            "text/plain": [
              "<Figure size 640x480 with 1 Axes>"
            ]
          },
          "metadata": {},
          "output_type": "display_data"
        }
      ],
      "source": [
        "plt.hist(positive, label='Laplace')\n",
        "plt.show()"
      ]
    },
    {
      "cell_type": "code",
      "execution_count": null,
      "id": "8c023354-8597-43dc-9dfe-95fda80a8f71",
      "metadata": {
        "id": "8c023354-8597-43dc-9dfe-95fda80a8f71",
        "outputId": "fc37d52d-23d8-466f-ba20-0a7fff455ab4"
      },
      "outputs": [
        {
          "data": {
            "image/png": "[encoded data removed]",
            "text/plain": [
              "<Figure size 640x480 with 1 Axes>"
            ]
          },
          "metadata": {},
          "output_type": "display_data"
        }
      ],
      "source": [
        "plt.hist(negative, label='Uniform')\n",
        "plt.show()"
      ]
    },
    {
      "cell_type": "code",
      "execution_count": null,
      "id": "e94219bb-83dc-4394-9fb2-5bc7d3168749",
      "metadata": {
        "id": "e94219bb-83dc-4394-9fb2-5bc7d3168749",
        "outputId": "b9a50af4-c9af-424d-b29e-992e5b0a51d9"
      },
      "outputs": [
        {
          "data": {
            "text/plain": [
              "2.113218706244613"
            ]
          },
          "execution_count": 96,
          "metadata": {},
          "output_type": "execute_result"
        }
      ],
      "source": [
        "# kurtosis using scicpy\n",
        "\n",
        "sp.stats.kurtosis(positive)"
      ]
    },
    {
      "cell_type": "markdown",
      "id": "a91a5654-f4be-4efe-a87d-7f0196fe3259",
      "metadata": {
        "id": "a91a5654-f4be-4efe-a87d-7f0196fe3259"
      },
      "source": [
        "**Dataset**"
      ]
    },
    {
      "cell_type": "code",
      "execution_count": null,
      "id": "4f3b905b-2fbb-4d8c-9262-ca17da234e36",
      "metadata": {
        "id": "4f3b905b-2fbb-4d8c-9262-ca17da234e36",
        "outputId": "811e0e6b-3e61-4650-c0bf-32eaf6563576"
      },
      "outputs": [
        {
          "data": {
            "text/html": [
              "<div>\n",
              "<style scoped>\n",
              "    .dataframe tbody tr th:only-of-type {\n",
              "        vertical-align: middle;\n",
              "    }\n",
              "\n",
              "    .dataframe tbody tr th {\n",
              "        vertical-align: top;\n",
              "    }\n",
              "\n",
              "    .dataframe thead th {\n",
              "        text-align: right;\n",
              "    }\n",
              "</style>\n",
              "<table border=\"1\" class=\"dataframe\">\n",
              "  <thead>\n",
              "    <tr style=\"text-align: right;\">\n",
              "      <th></th>\n",
              "      <th>brand</th>\n",
              "      <th>model</th>\n",
              "      <th>aggregateRating/ratingValue</th>\n",
              "      <th>aggregateRating/reviewCount</th>\n",
              "      <th>offers/price</th>\n",
              "      <th>offers/priceCurrency</th>\n",
              "      <th>depth</th>\n",
              "      <th>width</th>\n",
              "    </tr>\n",
              "  </thead>\n",
              "  <tbody>\n",
              "    <tr>\n",
              "      <th>0</th>\n",
              "      <td>Dell</td>\n",
              "      <td>i7430-7374SLV-PUS</td>\n",
              "      <td>4.7</td>\n",
              "      <td>1088.0</td>\n",
              "      <td>NaN</td>\n",
              "      <td>USD</td>\n",
              "      <td>8.92</td>\n",
              "      <td>12.36</td>\n",
              "    </tr>\n",
              "    <tr>\n",
              "      <th>1</th>\n",
              "      <td>Dell</td>\n",
              "      <td>i3520-5810BLK-PUS</td>\n",
              "      <td>4.6</td>\n",
              "      <td>839.0</td>\n",
              "      <td>NaN</td>\n",
              "      <td>USD</td>\n",
              "      <td>9.27</td>\n",
              "      <td>14.11</td>\n",
              "    </tr>\n",
              "    <tr>\n",
              "      <th>2</th>\n",
              "      <td>Lenovo</td>\n",
              "      <td>82YL0002US</td>\n",
              "      <td>4.7</td>\n",
              "      <td>127.0</td>\n",
              "      <td>NaN</td>\n",
              "      <td>USD</td>\n",
              "      <td>8.76</td>\n",
              "      <td>12.51</td>\n",
              "    </tr>\n",
              "    <tr>\n",
              "      <th>3</th>\n",
              "      <td>Microsoft</td>\n",
              "      <td>DTI-00001</td>\n",
              "      <td>4.7</td>\n",
              "      <td>926.0</td>\n",
              "      <td>NaN</td>\n",
              "      <td>USD</td>\n",
              "      <td>7.90</td>\n",
              "      <td>11.50</td>\n",
              "    </tr>\n",
              "    <tr>\n",
              "      <th>4</th>\n",
              "      <td>Microsoft</td>\n",
              "      <td>R1S-00062</td>\n",
              "      <td>4.7</td>\n",
              "      <td>422.0</td>\n",
              "      <td>NaN</td>\n",
              "      <td>USD</td>\n",
              "      <td>8.80</td>\n",
              "      <td>12.10</td>\n",
              "    </tr>\n",
              "  </tbody>\n",
              "</table>\n",
              "</div>"
            ],
            "text/plain": [
              "       brand              model  aggregateRating/ratingValue  \\\n",
              "0       Dell  i7430-7374SLV-PUS                          4.7   \n",
              "1       Dell  i3520-5810BLK-PUS                          4.6   \n",
              "2     Lenovo         82YL0002US                          4.7   \n",
              "3  Microsoft          DTI-00001                          4.7   \n",
              "4  Microsoft          R1S-00062                          4.7   \n",
              "\n",
              "   aggregateRating/reviewCount  offers/price offers/priceCurrency  depth  \\\n",
              "0                       1088.0           NaN                  USD   8.92   \n",
              "1                        839.0           NaN                  USD   9.27   \n",
              "2                        127.0           NaN                  USD   8.76   \n",
              "3                        926.0           NaN                  USD   7.90   \n",
              "4                        422.0           NaN                  USD   8.80   \n",
              "\n",
              "   width  \n",
              "0  12.36  \n",
              "1  14.11  \n",
              "2  12.51  \n",
              "3  11.50  \n",
              "4  12.10  "
            ]
          },
          "execution_count": 69,
          "metadata": {},
          "output_type": "execute_result"
        }
      ],
      "source": [
        "df = pd.read_csv('laptops.csv')\n",
        "df = df.drop(['features/0/description', 'features/1/description'], axis='columns')\n",
        "df.head()"
      ]
    },
    {
      "cell_type": "code",
      "execution_count": null,
      "id": "8cb2945c-e819-4f15-949d-24949f78ab6d",
      "metadata": {
        "id": "8cb2945c-e819-4f15-949d-24949f78ab6d",
        "outputId": "99588041-a12c-4fd7-ca49-7b48413ae04d"
      },
      "outputs": [
        {
          "name": "stdout",
          "output_type": "stream",
          "text": [
            "<class 'pandas.core.frame.DataFrame'>\n",
            "RangeIndex: 489 entries, 0 to 488\n",
            "Data columns (total 8 columns):\n",
            " #   Column                       Non-Null Count  Dtype  \n",
            "---  ------                       --------------  -----  \n",
            " 0   brand                        489 non-null    object \n",
            " 1   model                        488 non-null    object \n",
            " 2   aggregateRating/ratingValue  357 non-null    float64\n",
            " 3   aggregateRating/reviewCount  357 non-null    float64\n",
            " 4   offers/price                 262 non-null    float64\n",
            " 5   offers/priceCurrency         489 non-null    object \n",
            " 6   depth                        431 non-null    float64\n",
            " 7   width                        431 non-null    float64\n",
            "dtypes: float64(5), object(3)\n",
            "memory usage: 30.7+ KB\n"
          ]
        }
      ],
      "source": [
        "df.info()"
      ]
    },
    {
      "cell_type": "code",
      "execution_count": null,
      "id": "17d62fe4-a9ea-48c1-97ed-41484499257c",
      "metadata": {
        "id": "17d62fe4-a9ea-48c1-97ed-41484499257c",
        "outputId": "93a84b2e-dbea-4506-b77c-9ca565aea78d"
      },
      "outputs": [
        {
          "data": {
            "text/html": [
              "<div>\n",
              "<style scoped>\n",
              "    .dataframe tbody tr th:only-of-type {\n",
              "        vertical-align: middle;\n",
              "    }\n",
              "\n",
              "    .dataframe tbody tr th {\n",
              "        vertical-align: top;\n",
              "    }\n",
              "\n",
              "    .dataframe thead th {\n",
              "        text-align: right;\n",
              "    }\n",
              "</style>\n",
              "<table border=\"1\" class=\"dataframe\">\n",
              "  <thead>\n",
              "    <tr style=\"text-align: right;\">\n",
              "      <th></th>\n",
              "      <th>aggregateRating/ratingValue</th>\n",
              "      <th>aggregateRating/reviewCount</th>\n",
              "      <th>offers/price</th>\n",
              "      <th>depth</th>\n",
              "      <th>width</th>\n",
              "    </tr>\n",
              "  </thead>\n",
              "  <tbody>\n",
              "    <tr>\n",
              "      <th>count</th>\n",
              "      <td>357.000000</td>\n",
              "      <td>357.000000</td>\n",
              "      <td>262.000000</td>\n",
              "      <td>431.000000</td>\n",
              "      <td>431.000000</td>\n",
              "    </tr>\n",
              "    <tr>\n",
              "      <th>mean</th>\n",
              "      <td>4.413445</td>\n",
              "      <td>254.708683</td>\n",
              "      <td>1159.040687</td>\n",
              "      <td>9.678770</td>\n",
              "      <td>11.927030</td>\n",
              "    </tr>\n",
              "    <tr>\n",
              "      <th>std</th>\n",
              "      <td>0.641880</td>\n",
              "      <td>607.260976</td>\n",
              "      <td>782.605079</td>\n",
              "      <td>2.911987</td>\n",
              "      <td>3.333199</td>\n",
              "    </tr>\n",
              "    <tr>\n",
              "      <th>min</th>\n",
              "      <td>1.000000</td>\n",
              "      <td>1.000000</td>\n",
              "      <td>143.990000</td>\n",
              "      <td>0.490000</td>\n",
              "      <td>0.580000</td>\n",
              "    </tr>\n",
              "    <tr>\n",
              "      <th>25%</th>\n",
              "      <td>4.200000</td>\n",
              "      <td>3.000000</td>\n",
              "      <td>639.990000</td>\n",
              "      <td>8.655000</td>\n",
              "      <td>11.300000</td>\n",
              "    </tr>\n",
              "    <tr>\n",
              "      <th>50%</th>\n",
              "      <td>4.600000</td>\n",
              "      <td>18.000000</td>\n",
              "      <td>959.990000</td>\n",
              "      <td>9.220000</td>\n",
              "      <td>12.510000</td>\n",
              "    </tr>\n",
              "    <tr>\n",
              "      <th>75%</th>\n",
              "      <td>4.800000</td>\n",
              "      <td>208.000000</td>\n",
              "      <td>1494.990000</td>\n",
              "      <td>10.400000</td>\n",
              "      <td>14.050000</td>\n",
              "    </tr>\n",
              "    <tr>\n",
              "      <th>max</th>\n",
              "      <td>5.000000</td>\n",
              "      <td>4231.000000</td>\n",
              "      <td>4489.990000</td>\n",
              "      <td>20.250000</td>\n",
              "      <td>18.100000</td>\n",
              "    </tr>\n",
              "  </tbody>\n",
              "</table>\n",
              "</div>"
            ],
            "text/plain": [
              "       aggregateRating/ratingValue  aggregateRating/reviewCount  offers/price  \\\n",
              "count                   357.000000                   357.000000    262.000000   \n",
              "mean                      4.413445                   254.708683   1159.040687   \n",
              "std                       0.641880                   607.260976    782.605079   \n",
              "min                       1.000000                     1.000000    143.990000   \n",
              "25%                       4.200000                     3.000000    639.990000   \n",
              "50%                       4.600000                    18.000000    959.990000   \n",
              "75%                       4.800000                   208.000000   1494.990000   \n",
              "max                       5.000000                  4231.000000   4489.990000   \n",
              "\n",
              "            depth       width  \n",
              "count  431.000000  431.000000  \n",
              "mean     9.678770   11.927030  \n",
              "std      2.911987    3.333199  \n",
              "min      0.490000    0.580000  \n",
              "25%      8.655000   11.300000  \n",
              "50%      9.220000   12.510000  \n",
              "75%     10.400000   14.050000  \n",
              "max     20.250000   18.100000  "
            ]
          },
          "execution_count": 71,
          "metadata": {},
          "output_type": "execute_result"
        }
      ],
      "source": [
        "df.describe()"
      ]
    },
    {
      "cell_type": "code",
      "execution_count": null,
      "id": "ee5542bf-05b4-4180-9bcd-6f18e70d7984",
      "metadata": {
        "id": "ee5542bf-05b4-4180-9bcd-6f18e70d7984",
        "outputId": "3d2b5cee-da30-4a46-bd2b-eac0bf686f6e"
      },
      "outputs": [
        {
          "data": {
            "text/plain": [
              "brand                            0\n",
              "model                            1\n",
              "aggregateRating/ratingValue      0\n",
              "aggregateRating/reviewCount    132\n",
              "offers/price                   227\n",
              "offers/priceCurrency             0\n",
              "depth                           58\n",
              "width                           58\n",
              "dtype: int64"
            ]
          },
          "execution_count": 91,
          "metadata": {},
          "output_type": "execute_result"
        }
      ],
      "source": [
        "df.isna().sum()"
      ]
    },
    {
      "cell_type": "code",
      "execution_count": null,
      "id": "bf944640-f92f-4ec7-9201-7486ec8b9be6",
      "metadata": {
        "id": "bf944640-f92f-4ec7-9201-7486ec8b9be6",
        "outputId": "0d303124-18f0-49ed-d3d8-3effe2fd7ad5"
      },
      "outputs": [
        {
          "name": "stdout",
          "output_type": "stream",
          "text": [
            "aggregateRating/ratingValue    4.413445\n",
            "dtype: float64\n"
          ]
        }
      ],
      "source": [
        "m = df[['aggregateRating/ratingValue']].mean()\n",
        "print(m)\n",
        "\n",
        "df[['aggregateRating/ratingValue']] = df[['aggregateRating/ratingValue']].fillna(m)"
      ]
    },
    {
      "cell_type": "code",
      "execution_count": null,
      "id": "25294ec1-26d6-4ea0-aea5-549550aaa199",
      "metadata": {
        "id": "25294ec1-26d6-4ea0-aea5-549550aaa199",
        "outputId": "42feeadb-7d4c-4ba9-e2f7-5d679cafcccf"
      },
      "outputs": [
        {
          "data": {
            "text/plain": [
              "brand    \n",
              "Lenovo       99\n",
              "Dell         83\n",
              "HP           68\n",
              "ASUS         63\n",
              "Microsoft    51\n",
              "Acer         32\n",
              "MSI          22\n",
              "Razer        22\n",
              "GIGABYTE     14\n",
              "Samsung      13\n",
              "LG            9\n",
              "Alienware     6\n",
              "HP OMEN       6\n",
              "Thomson       1\n",
              "Name: count, dtype: int64"
            ]
          },
          "execution_count": 72,
          "metadata": {},
          "output_type": "execute_result"
        }
      ],
      "source": [
        "# frequency\n",
        "\n",
        "df[['brand']].value_counts()"
      ]
    },
    {
      "cell_type": "code",
      "execution_count": null,
      "id": "26945c25-2b86-4309-ae9f-c540afa7ba93",
      "metadata": {
        "id": "26945c25-2b86-4309-ae9f-c540afa7ba93",
        "outputId": "7ba45ac8-a4ad-49f1-cbe5-6a3fc13589c7"
      },
      "outputs": [
        {
          "data": {
            "image/png": "[encoded data removed]",
            "text/plain": [
              "<Figure size 640x480 with 1 Axes>"
            ]
          },
          "metadata": {},
          "output_type": "display_data"
        }
      ],
      "source": [
        "# bar chart\n",
        "\n",
        "bins, counts = np.unique(df[['brand']], return_counts=True)\n",
        "plt.bar(bins, counts)\n",
        "plt.xticks(rotation=60)\n",
        "plt.show()"
      ]
    },
    {
      "cell_type": "code",
      "execution_count": null,
      "id": "47a8b57d-e5ab-45c4-a7b8-cd96fcf7fc02",
      "metadata": {
        "id": "47a8b57d-e5ab-45c4-a7b8-cd96fcf7fc02",
        "outputId": "07d34723-b138-4bc4-c204-232baa3605da"
      },
      "outputs": [
        {
          "data": {
            "image/png": "[encoded data removed]",
            "text/plain": [
              "<Figure size 640x480 with 1 Axes>"
            ]
          },
          "metadata": {},
          "output_type": "display_data"
        }
      ],
      "source": [
        "# histogram\n",
        "\n",
        "plt.hist(df['aggregateRating/ratingValue'], bins=10, width=0.5)\n",
        "plt.show()"
      ]
    },
    {
      "cell_type": "code",
      "execution_count": null,
      "id": "bcbbd88e-13a8-4d64-956c-b930d054af9f",
      "metadata": {
        "id": "bcbbd88e-13a8-4d64-956c-b930d054af9f",
        "outputId": "d319532e-6746-44ad-b8f2-b8b7b3d7fd91"
      },
      "outputs": [
        {
          "data": {
            "text/plain": [
              "depth     9.67877\n",
              "width    11.92703\n",
              "dtype: float64"
            ]
          },
          "execution_count": 78,
          "metadata": {},
          "output_type": "execute_result"
        }
      ],
      "source": [
        "# mean\n",
        "\n",
        "df[['depth', 'width']].mean()"
      ]
    },
    {
      "cell_type": "code",
      "execution_count": null,
      "id": "7492fad4-82a4-4df6-9670-7071ee04e080",
      "metadata": {
        "id": "7492fad4-82a4-4df6-9670-7071ee04e080",
        "outputId": "06f81786-820b-440f-b05f-38eb95c11293"
      },
      "outputs": [
        {
          "data": {
            "text/plain": [
              "depth     9.22\n",
              "width    12.51\n",
              "dtype: float64"
            ]
          },
          "execution_count": 79,
          "metadata": {},
          "output_type": "execute_result"
        }
      ],
      "source": [
        "# median\n",
        "\n",
        "df[['depth', 'width']].median()"
      ]
    },
    {
      "cell_type": "code",
      "execution_count": null,
      "id": "1c4eab09-07b7-4b62-acef-1045e59b2dc4",
      "metadata": {
        "id": "1c4eab09-07b7-4b62-acef-1045e59b2dc4",
        "outputId": "d3e30e80-76ed-47a4-9ba4-8a907838a334"
      },
      "outputs": [
        {
          "data": {
            "text/html": [
              "<div>\n",
              "<style scoped>\n",
              "    .dataframe tbody tr th:only-of-type {\n",
              "        vertical-align: middle;\n",
              "    }\n",
              "\n",
              "    .dataframe tbody tr th {\n",
              "        vertical-align: top;\n",
              "    }\n",
              "\n",
              "    .dataframe thead th {\n",
              "        text-align: right;\n",
              "    }\n",
              "</style>\n",
              "<table border=\"1\" class=\"dataframe\">\n",
              "  <thead>\n",
              "    <tr style=\"text-align: right;\">\n",
              "      <th></th>\n",
              "      <th>depth</th>\n",
              "      <th>width</th>\n",
              "    </tr>\n",
              "  </thead>\n",
              "  <tbody>\n",
              "    <tr>\n",
              "      <th>0</th>\n",
              "      <td>8.0</td>\n",
              "      <td>12.0</td>\n",
              "    </tr>\n",
              "  </tbody>\n",
              "</table>\n",
              "</div>"
            ],
            "text/plain": [
              "   depth  width\n",
              "0    8.0   12.0"
            ]
          },
          "execution_count": 80,
          "metadata": {},
          "output_type": "execute_result"
        }
      ],
      "source": [
        "# mode\n",
        "\n",
        "df[['depth', 'width']].mode()"
      ]
    },
    {
      "cell_type": "code",
      "execution_count": null,
      "id": "94e3ec83-0912-4cbb-a93a-2f79afaaa19b",
      "metadata": {
        "id": "94e3ec83-0912-4cbb-a93a-2f79afaaa19b",
        "outputId": "f5cafde6-5c12-497d-aa28-26625f923c66"
      },
      "outputs": [
        {
          "data": {
            "text/plain": [
              "depth     8.479666\n",
              "width    11.110214\n",
              "dtype: float64"
            ]
          },
          "execution_count": 81,
          "metadata": {},
          "output_type": "execute_result"
        }
      ],
      "source": [
        "# var\n",
        "\n",
        "df[['depth', 'width']].var()"
      ]
    },
    {
      "cell_type": "code",
      "execution_count": null,
      "id": "a886bbf0-c7bb-4c16-91bf-47537a056c55",
      "metadata": {
        "id": "a886bbf0-c7bb-4c16-91bf-47537a056c55",
        "outputId": "25c062dc-0f36-4453-8d0d-571148cd0149"
      },
      "outputs": [
        {
          "data": {
            "text/plain": [
              "depth    2.911987\n",
              "width    3.333199\n",
              "dtype: float64"
            ]
          },
          "execution_count": 82,
          "metadata": {},
          "output_type": "execute_result"
        }
      ],
      "source": [
        "# std\n",
        "\n",
        "df[['depth', 'width']].std()"
      ]
    },
    {
      "cell_type": "code",
      "execution_count": null,
      "id": "2821b15f-5df1-4eec-b56e-cd91ec8d2856",
      "metadata": {
        "id": "2821b15f-5df1-4eec-b56e-cd91ec8d2856",
        "outputId": "430931c7-0141-4798-da2f-000ae287f3aa"
      },
      "outputs": [
        {
          "data": {
            "text/html": [
              "<div>\n",
              "<style scoped>\n",
              "    .dataframe tbody tr th:only-of-type {\n",
              "        vertical-align: middle;\n",
              "    }\n",
              "\n",
              "    .dataframe tbody tr th {\n",
              "        vertical-align: top;\n",
              "    }\n",
              "\n",
              "    .dataframe thead th {\n",
              "        text-align: right;\n",
              "    }\n",
              "</style>\n",
              "<table border=\"1\" class=\"dataframe\">\n",
              "  <thead>\n",
              "    <tr style=\"text-align: right;\">\n",
              "      <th></th>\n",
              "      <th>depth</th>\n",
              "      <th>width</th>\n",
              "    </tr>\n",
              "  </thead>\n",
              "  <tbody>\n",
              "    <tr>\n",
              "      <th>0.25</th>\n",
              "      <td>8.655</td>\n",
              "      <td>11.30</td>\n",
              "    </tr>\n",
              "    <tr>\n",
              "      <th>0.50</th>\n",
              "      <td>9.220</td>\n",
              "      <td>12.51</td>\n",
              "    </tr>\n",
              "    <tr>\n",
              "      <th>0.75</th>\n",
              "      <td>10.400</td>\n",
              "      <td>14.05</td>\n",
              "    </tr>\n",
              "  </tbody>\n",
              "</table>\n",
              "</div>"
            ],
            "text/plain": [
              "       depth  width\n",
              "0.25   8.655  11.30\n",
              "0.50   9.220  12.51\n",
              "0.75  10.400  14.05"
            ]
          },
          "execution_count": 83,
          "metadata": {},
          "output_type": "execute_result"
        }
      ],
      "source": [
        "# quantiles\n",
        "\n",
        "df[['depth', 'width']].quantile([0.25, 0.5, 0.75])"
      ]
    },
    {
      "cell_type": "code",
      "execution_count": null,
      "id": "1dc44ff8-5091-487c-a78c-f0c1c1b98850",
      "metadata": {
        "id": "1dc44ff8-5091-487c-a78c-f0c1c1b98850",
        "outputId": "b134ba34-4d9e-4614-9590-aaa1774cbbe4"
      },
      "outputs": [
        {
          "data": {
            "image/png": "[encoded data removed]",
            "text/plain": [
              "<Figure size 640x480 with 1 Axes>"
            ]
          },
          "metadata": {},
          "output_type": "display_data"
        }
      ],
      "source": [
        "plt.boxplot(df['aggregateRating/ratingValue'])\n",
        "plt.show()"
      ]
    },
    {
      "cell_type": "code",
      "execution_count": null,
      "id": "eac00559-9c4d-4dae-b3a4-08830eb5446f",
      "metadata": {
        "id": "eac00559-9c4d-4dae-b3a4-08830eb5446f"
      },
      "outputs": [],
      "source": []
    }
  ],
  "metadata": {
    "kernelspec": {
      "display_name": "Python 3 (ipykernel)",
      "language": "python",
      "name": "python3"
    },
    "language_info": {
      "codemirror_mode": {
        "name": "ipython",
        "version": 3
      },
      "file_extension": ".py",
      "mimetype": "text/x-python",
      "name": "python",
      "nbconvert_exporter": "python",
      "pygments_lexer": "ipython3",
      "version": "3.11.7"
    },
    "colab": {
      "provenance": []
    }
  },
  "nbformat": 4,
  "nbformat_minor": 5
}