{
  "cells": [
    {
      "cell_type": "markdown",
      "id": "dd7026ee-19ba-4455-b55c-1cb02b7b70b6",
      "metadata": {
        "id": "dd7026ee-19ba-4455-b55c-1cb02b7b70b6"
      },
      "source": [
        "**Import Package**"
      ]
    },
    {
      "cell_type": "code",
      "execution_count": null,
      "id": "774a58f0-cdac-4f38-87e5-667bba1b7570",
      "metadata": {
        "id": "774a58f0-cdac-4f38-87e5-667bba1b7570"
      },
      "outputs": [],
      "source": [
        "import pandas as pd"
      ]
    },
    {
      "cell_type": "markdown",
      "id": "5b66a28b-9fea-46e5-a28a-2a58d322fdbd",
      "metadata": {
        "id": "5b66a28b-9fea-46e5-a28a-2a58d322fdbd"
      },
      "source": [
        "**Series**"
      ]
    },
    {
      "cell_type": "code",
      "execution_count": null,
      "id": "2b455345-102e-4546-b3c5-cfa5f5ed4ca4",
      "metadata": {
        "id": "2b455345-102e-4546-b3c5-cfa5f5ed4ca4"
      },
      "outputs": [],
      "source": [
        "# pd.Series\n",
        "a = pd.Series([1, 2, 3, 4])\n",
        "a\n",
        "# .array\n",
        "a.array\n",
        "\n",
        "# .index\n",
        "a.index"
      ]
    },
    {
      "cell_type": "code",
      "execution_count": null,
      "id": "3c1189c0-b468-4919-b55c-f71c5fed84ed",
      "metadata": {
        "id": "3c1189c0-b468-4919-b55c-f71c5fed84ed"
      },
      "outputs": [],
      "source": [
        "# non-integer index\n",
        "\n",
        "a = pd.Series([1, 2, 3, 4], index=['a', 'b', 'c', 'd'])\n",
        "a"
      ]
    },
    {
      "cell_type": "code",
      "execution_count": null,
      "id": "4e246e7c-315c-4bd4-851f-6d48acd24ad3",
      "metadata": {
        "id": "4e246e7c-315c-4bd4-851f-6d48acd24ad3"
      },
      "outputs": [],
      "source": [
        "# non-unique indices\n",
        "\n",
        "a = pd.Series([1, 2, 3, 4], index=['a', 'a', 'a', 'd'])\n",
        "a['a']"
      ]
    },
    {
      "cell_type": "code",
      "execution_count": null,
      "id": "995ecf2e-8c1a-474a-95f5-03aa78c61db7",
      "metadata": {
        "id": "995ecf2e-8c1a-474a-95f5-03aa78c61db7"
      },
      "outputs": [],
      "source": [
        "# series as a dictionary\n",
        "\n",
        "a = pd.Series({'a': 1, 'b': 2, 'c': 3, 'd': 4})\n",
        "a.to_dict()"
      ]
    },
    {
      "cell_type": "code",
      "execution_count": null,
      "id": "1b49f5f7-743a-4bf0-bd25-c8ac5435b025",
      "metadata": {
        "id": "1b49f5f7-743a-4bf0-bd25-c8ac5435b025"
      },
      "outputs": [],
      "source": [
        "# arithmatic operations\n",
        "\n",
        "b = pd.Series({'a': 1, 'b': 2, 'c': 3, 'd': 4})\n",
        "\n",
        "a * b"
      ]
    },
    {
      "cell_type": "code",
      "execution_count": null,
      "id": "ea741cfb-2a2e-4227-a7c2-17d7817870cc",
      "metadata": {
        "id": "ea741cfb-2a2e-4227-a7c2-17d7817870cc"
      },
      "outputs": [],
      "source": [
        "# NaN values - isna, notna\n",
        "\n",
        "c = pd.Series({'a': 1, 'b': 2, 'd': 4, 'e': 5})\n",
        "\n",
        "d = a + c\n",
        "\n",
        "d"
      ]
    },
    {
      "cell_type": "code",
      "execution_count": null,
      "id": "549a6e2e-30be-4536-9f2b-aed76a1ac75f",
      "metadata": {
        "id": "549a6e2e-30be-4536-9f2b-aed76a1ac75f"
      },
      "outputs": [],
      "source": [
        "d.isna()"
      ]
    },
    {
      "cell_type": "code",
      "execution_count": null,
      "id": "2119f4e1-5d1b-45e8-995d-cb60703c024e",
      "metadata": {
        "id": "2119f4e1-5d1b-45e8-995d-cb60703c024e"
      },
      "outputs": [],
      "source": [
        "d.notna()"
      ]
    },
    {
      "cell_type": "code",
      "execution_count": null,
      "id": "a9c942de-3a2f-4b95-b3b5-373f468f3df1",
      "metadata": {
        "id": "a9c942de-3a2f-4b95-b3b5-373f468f3df1"
      },
      "outputs": [],
      "source": [
        "# dropna\n",
        "\n",
        "d.dropna()"
      ]
    },
    {
      "cell_type": "code",
      "execution_count": null,
      "id": "ae394f25-a7dd-4568-a5bc-25fab5077fae",
      "metadata": {
        "id": "ae394f25-a7dd-4568-a5bc-25fab5077fae"
      },
      "outputs": [],
      "source": [
        "# fillna\n",
        "\n",
        "d.fillna(10)"
      ]
    },
    {
      "cell_type": "code",
      "execution_count": null,
      "id": "b7ef43b4-ac00-4b91-8787-2cb97a1487ed",
      "metadata": {
        "id": "b7ef43b4-ac00-4b91-8787-2cb97a1487ed"
      },
      "outputs": [],
      "source": [
        "# arithmatic with fill_value\n",
        "print(a)\n",
        "print(c)\n",
        "a.add(c, fill_value=5)"
      ]
    },
    {
      "cell_type": "code",
      "execution_count": null,
      "id": "b53b2a32-ff40-4abf-9f62-96c7ede83438",
      "metadata": {
        "id": "b53b2a32-ff40-4abf-9f62-96c7ede83438"
      },
      "outputs": [],
      "source": [
        "# drop values by index\n",
        "\n",
        "a.drop(['b', 'c'])"
      ]
    },
    {
      "cell_type": "markdown",
      "id": "0d9535d6-c11d-4a04-848c-ad13a68e5a12",
      "metadata": {
        "id": "0d9535d6-c11d-4a04-848c-ad13a68e5a12"
      },
      "source": [
        "**DataFrame**"
      ]
    },
    {
      "cell_type": "code",
      "execution_count": null,
      "id": "7fb488a7-b58b-40c6-8b45-89a42eb10c2a",
      "metadata": {
        "id": "7fb488a7-b58b-40c6-8b45-89a42eb10c2a"
      },
      "outputs": [],
      "source": [
        "# dataframe\n",
        "import numpy as np\n",
        "arr = np.arange(20).reshape((5, 4))\n",
        "print(arr)\n",
        "df = pd.DataFrame(arr, columns=['A', 'B', 'C', 'D'], index=[10, 20, 30, 40, 50])\n",
        "df"
      ]
    },
    {
      "cell_type": "code",
      "execution_count": null,
      "id": "de588201-d1f1-45c7-a0c5-f8afbb016d49",
      "metadata": {
        "id": "de588201-d1f1-45c7-a0c5-f8afbb016d49"
      },
      "outputs": [],
      "source": [
        "# dictionary of series\n",
        "\n",
        "df = pd.DataFrame({'A': [1, 2, 3, 4, 5],\n",
        "                   'B': [6, 7, 8, 9, 10]}, index=[10, 20, 30, 40, 50])\n",
        "df"
      ]
    },
    {
      "cell_type": "code",
      "execution_count": null,
      "id": "e782b625-381d-4842-b610-706453acafaf",
      "metadata": {
        "id": "e782b625-381d-4842-b610-706453acafaf"
      },
      "outputs": [],
      "source": [
        "# dictionary of dictionaries\n",
        "\n",
        "df = pd.DataFrame({'A': {10: 1, 20: 2, 30: 3},\n",
        "                   'B': {10: 1, 25: 3, 40: 5}})\n",
        "df"
      ]
    },
    {
      "cell_type": "code",
      "execution_count": null,
      "id": "18bf4085-199a-42fc-977a-b0466570a832",
      "metadata": {
        "id": "18bf4085-199a-42fc-977a-b0466570a832"
      },
      "outputs": [],
      "source": [
        "# columns and index\n",
        "\n",
        "df.columns\n",
        "\n",
        "df.index"
      ]
    },
    {
      "cell_type": "code",
      "execution_count": null,
      "id": "efaa73e1-afe5-4aa0-bc75-2a8a893c4ced",
      "metadata": {
        "id": "efaa73e1-afe5-4aa0-bc75-2a8a893c4ced"
      },
      "outputs": [],
      "source": [
        "# accessing columns\n",
        "# dict\n",
        "df['B']\n",
        "\n",
        "# dot\n",
        "df.A"
      ]
    },
    {
      "cell_type": "code",
      "execution_count": null,
      "id": "be734af1-a218-47c8-b809-759188d91fb8",
      "metadata": {
        "id": "be734af1-a218-47c8-b809-759188d91fb8"
      },
      "outputs": [],
      "source": [
        "# mutable\n",
        "\n",
        "df['A'][10] = 50\n",
        "df"
      ]
    },
    {
      "cell_type": "code",
      "execution_count": null,
      "id": "409919aa-e3a2-4c8f-ac23-24b162d4604f",
      "metadata": {
        "id": "409919aa-e3a2-4c8f-ac23-24b162d4604f"
      },
      "outputs": [],
      "source": [
        "df['A'] = 10\n",
        "df"
      ]
    },
    {
      "cell_type": "code",
      "execution_count": null,
      "id": "c8a8e43f-8ee5-4bbc-999d-b936c3f41582",
      "metadata": {
        "id": "c8a8e43f-8ee5-4bbc-999d-b936c3f41582"
      },
      "outputs": [],
      "source": [
        "# delete columns\n",
        "del df['B']\n",
        "\n",
        "# drop\n",
        "\n",
        "df.drop(columns=['C'], inplace=True)"
      ]
    },
    {
      "cell_type": "code",
      "execution_count": null,
      "id": "36c5c844-aa2e-4deb-b60c-b0235ab1e3e7",
      "metadata": {
        "id": "36c5c844-aa2e-4deb-b60c-b0235ab1e3e7"
      },
      "outputs": [],
      "source": [
        "# astype\n",
        "\n",
        "df['A'] = df['A'].astype(str)\n",
        "df['A'] = df['A'] + '5'\n",
        "df"
      ]
    },
    {
      "cell_type": "code",
      "execution_count": null,
      "id": "deef0c66-ae67-4de6-b7a9-3999e6418482",
      "metadata": {
        "id": "deef0c66-ae67-4de6-b7a9-3999e6418482"
      },
      "outputs": [],
      "source": [
        "# string\n",
        "print(df)\n",
        "df['A'].str.split('')"
      ]
    },
    {
      "cell_type": "markdown",
      "id": "a4d9c752-a4ac-4d25-8825-ff49b2e503bb",
      "metadata": {
        "id": "a4d9c752-a4ac-4d25-8825-ff49b2e503bb"
      },
      "source": [
        "**Indexing**"
      ]
    },
    {
      "cell_type": "code",
      "execution_count": null,
      "id": "b512b64c-d71c-4fcc-9521-b159c3c7b390",
      "metadata": {
        "id": "b512b64c-d71c-4fcc-9521-b159c3c7b390"
      },
      "outputs": [],
      "source": [
        "# loc\n",
        "print(df)\n",
        "\n",
        "df.loc[10]"
      ]
    },
    {
      "cell_type": "code",
      "execution_count": null,
      "id": "d1653482-54da-46c8-bdf0-a86f2bf1f6fa",
      "metadata": {
        "id": "d1653482-54da-46c8-bdf0-a86f2bf1f6fa"
      },
      "outputs": [],
      "source": [
        "df.loc[[10, 20]]"
      ]
    },
    {
      "cell_type": "code",
      "execution_count": null,
      "id": "721f36f1-15d3-4172-a7fa-d1385daf395f",
      "metadata": {
        "id": "721f36f1-15d3-4172-a7fa-d1385daf395f"
      },
      "outputs": [],
      "source": [
        "df.loc[10:30]"
      ]
    },
    {
      "cell_type": "code",
      "execution_count": null,
      "id": "7c5ae7ca-a5ff-41eb-9311-34fa2fff5991",
      "metadata": {
        "id": "7c5ae7ca-a5ff-41eb-9311-34fa2fff5991"
      },
      "outputs": [],
      "source": [
        "# iloc\n",
        "\n",
        "df.iloc[0]"
      ]
    },
    {
      "cell_type": "code",
      "execution_count": null,
      "id": "28dcc272-ea9a-446e-bf6c-1e57ce5a9266",
      "metadata": {
        "id": "28dcc272-ea9a-446e-bf6c-1e57ce5a9266"
      },
      "outputs": [],
      "source": [
        "df.iloc[[1, 2]]"
      ]
    },
    {
      "cell_type": "code",
      "execution_count": null,
      "id": "e9ca3b6d-a96d-4538-a457-561ca4c8f77d",
      "metadata": {
        "id": "e9ca3b6d-a96d-4538-a457-561ca4c8f77d"
      },
      "outputs": [],
      "source": [
        "df.iloc[0:2]"
      ]
    },
    {
      "cell_type": "code",
      "execution_count": null,
      "id": "6d4fb88a-3057-4803-ab88-b36f035125e0",
      "metadata": {
        "id": "6d4fb88a-3057-4803-ab88-b36f035125e0"
      },
      "outputs": [],
      "source": [
        "# boolean\n",
        "df[df['D'] > 10]"
      ]
    },
    {
      "cell_type": "code",
      "execution_count": null,
      "id": "a5fd3b61-83db-4536-ac2e-dd4fc45c108f",
      "metadata": {
        "id": "a5fd3b61-83db-4536-ac2e-dd4fc45c108f"
      },
      "outputs": [],
      "source": [
        "# reindexing\n",
        "df = df.reindex([8, 9, 10, 11, 20])\n",
        "df"
      ]
    },
    {
      "cell_type": "markdown",
      "id": "b2c92e01-787f-45b4-ba71-847981479f28",
      "metadata": {
        "id": "b2c92e01-787f-45b4-ba71-847981479f28"
      },
      "source": [
        "**Applying Functions**"
      ]
    },
    {
      "cell_type": "code",
      "execution_count": null,
      "id": "d77e93c4-d1c0-4d99-b29d-b443a690bdef",
      "metadata": {
        "id": "d77e93c4-d1c0-4d99-b29d-b443a690bdef"
      },
      "outputs": [],
      "source": [
        "# numpy ufuncs\n",
        "\n",
        "np.sqrt(df)"
      ]
    },
    {
      "cell_type": "code",
      "execution_count": null,
      "id": "98b86995-f49b-4d18-96b4-8d0071daa35a",
      "metadata": {
        "id": "98b86995-f49b-4d18-96b4-8d0071daa35a"
      },
      "outputs": [],
      "source": [
        "df.apply(np.sqrt)"
      ]
    },
    {
      "cell_type": "code",
      "execution_count": null,
      "id": "4f176f61-9eaa-499c-869d-36ae1fb083ca",
      "metadata": {
        "id": "4f176f61-9eaa-499c-869d-36ae1fb083ca"
      },
      "outputs": [],
      "source": [
        "# 1-d array wise application - apply\n",
        "\n",
        "def arrayfun(arr):\n",
        "    return np.sum(arr)\n",
        "\n",
        "df.apply(arrayfun)"
      ]
    },
    {
      "cell_type": "code",
      "execution_count": null,
      "id": "852fd613-4ca3-40fd-b225-5d82f7524693",
      "metadata": {
        "id": "852fd613-4ca3-40fd-b225-5d82f7524693"
      },
      "outputs": [],
      "source": [
        "# axis-rows\n",
        "\n",
        "df.apply(arrayfun, axis='index') # or axis=0"
      ]
    },
    {
      "cell_type": "code",
      "execution_count": null,
      "id": "c1333118-640d-4541-8900-5966b97593fa",
      "metadata": {
        "id": "c1333118-640d-4541-8900-5966b97593fa"
      },
      "outputs": [],
      "source": [
        "# axis-columns\n",
        "\n",
        "df.apply(arrayfun, axis='columns') # or axis=1"
      ]
    },
    {
      "cell_type": "code",
      "execution_count": null,
      "id": "9f61be42-4fcc-440f-be70-10b01dfd8126",
      "metadata": {
        "id": "9f61be42-4fcc-440f-be70-10b01dfd8126"
      },
      "outputs": [],
      "source": [
        "# elementwise application - map\n",
        "\n",
        "def elementfun(x):\n",
        "    return x*5\n",
        "\n",
        "df.map(elementfun)"
      ]
    },
    {
      "cell_type": "markdown",
      "id": "ccdaf013-2a3a-4c63-b904-9099c0a07878",
      "metadata": {
        "id": "ccdaf013-2a3a-4c63-b904-9099c0a07878"
      },
      "source": [
        "**Sorting**"
      ]
    },
    {
      "cell_type": "code",
      "execution_count": null,
      "id": "7a503851-97ce-47b7-ac05-a0cdaec37835",
      "metadata": {
        "id": "7a503851-97ce-47b7-ac05-a0cdaec37835"
      },
      "outputs": [],
      "source": [
        "# sort_values\n",
        "\n",
        "print(df)\n",
        "print(df['A'].sort_values())"
      ]
    },
    {
      "cell_type": "code",
      "execution_count": null,
      "id": "998e971b-2da8-4822-80d0-f6b6ce27e39a",
      "metadata": {
        "id": "998e971b-2da8-4822-80d0-f6b6ce27e39a"
      },
      "outputs": [],
      "source": [
        "# sort_index\n",
        "\n",
        "print(df)\n",
        "print(df['A'].sort_index())"
      ]
    },
    {
      "cell_type": "markdown",
      "id": "5904fce4-dbec-4046-8a12-ed47e87e4c69",
      "metadata": {
        "id": "5904fce4-dbec-4046-8a12-ed47e87e4c69"
      },
      "source": [
        "**Statistics**"
      ]
    },
    {
      "cell_type": "code",
      "execution_count": null,
      "id": "441e6d5b-32bf-4175-a899-9fd5b50d1026",
      "metadata": {
        "scrolled": true,
        "id": "441e6d5b-32bf-4175-a899-9fd5b50d1026"
      },
      "outputs": [],
      "source": [
        "# sum, mean\n",
        "\n",
        "df.sum()\n",
        "df.mean()"
      ]
    },
    {
      "cell_type": "code",
      "execution_count": null,
      "id": "f56b91be-90f1-4c5d-8d02-aa7a89de3524",
      "metadata": {
        "id": "f56b91be-90f1-4c5d-8d02-aa7a89de3524"
      },
      "outputs": [],
      "source": [
        "# axis\n",
        "\n",
        "df.sum(axis=0)\n",
        "df.mean(axis=1)"
      ]
    },
    {
      "cell_type": "code",
      "execution_count": null,
      "id": "e4bd4cdb-cbe0-451f-9371-603aef12d8cd",
      "metadata": {
        "id": "e4bd4cdb-cbe0-451f-9371-603aef12d8cd"
      },
      "outputs": [],
      "source": [
        "# describe\n",
        "\n",
        "df.describe()"
      ]
    },
    {
      "cell_type": "code",
      "execution_count": null,
      "id": "6646e546-ed7c-4620-9458-c61c648bfabb",
      "metadata": {
        "id": "6646e546-ed7c-4620-9458-c61c648bfabb"
      },
      "outputs": [],
      "source": [
        "# unique\n",
        "\n",
        "df['A'].unique()"
      ]
    },
    {
      "cell_type": "code",
      "execution_count": null,
      "id": "a84d5857-17b2-4d41-9372-d22a2ec0354a",
      "metadata": {
        "id": "a84d5857-17b2-4d41-9372-d22a2ec0354a"
      },
      "outputs": [],
      "source": [
        "df.loc[10].unique()"
      ]
    },
    {
      "cell_type": "code",
      "execution_count": null,
      "id": "af85b402-ab6f-4361-be6a-c6a4492c9b65",
      "metadata": {
        "id": "af85b402-ab6f-4361-be6a-c6a4492c9b65"
      },
      "outputs": [],
      "source": [
        "# value_counts\n",
        "\n",
        "df['B'].value_counts()"
      ]
    },
    {
      "cell_type": "markdown",
      "id": "2c892eb4-afb0-415f-b3c3-58b9058df051",
      "metadata": {
        "id": "2c892eb4-afb0-415f-b3c3-58b9058df051"
      },
      "source": [
        "**File Reading**"
      ]
    },
    {
      "cell_type": "code",
      "execution_count": null,
      "id": "afba9252-da3b-4bcc-8213-12d926cec0ce",
      "metadata": {
        "id": "afba9252-da3b-4bcc-8213-12d926cec0ce"
      },
      "outputs": [],
      "source": [
        "df = pd.read_csv('grades.csv')\n",
        "df"
      ]
    },
    {
      "cell_type": "markdown",
      "id": "b5ed2fd9-39f7-4e8e-9801-65c1cc7a1102",
      "metadata": {
        "id": "b5ed2fd9-39f7-4e8e-9801-65c1cc7a1102"
      },
      "source": [
        "**Views**"
      ]
    },
    {
      "cell_type": "code",
      "execution_count": null,
      "id": "902a9982-0220-4bc5-8965-dc93df1654cd",
      "metadata": {
        "id": "902a9982-0220-4bc5-8965-dc93df1654cd"
      },
      "outputs": [],
      "source": [
        "# head\n",
        "\n",
        "df.head()"
      ]
    },
    {
      "cell_type": "code",
      "execution_count": null,
      "id": "520cce20-d797-4aa2-8a7d-5c7f246947ba",
      "metadata": {
        "id": "520cce20-d797-4aa2-8a7d-5c7f246947ba"
      },
      "outputs": [],
      "source": [
        "# tail\n",
        "\n",
        "df.tail()"
      ]
    },
    {
      "cell_type": "markdown",
      "id": "f97e0504-494d-4fc2-9d78-983f46f90295",
      "metadata": {
        "id": "f97e0504-494d-4fc2-9d78-983f46f90295"
      },
      "source": [
        "**File Writing**"
      ]
    },
    {
      "cell_type": "code",
      "execution_count": null,
      "id": "1aafef58-6d90-48ce-908f-213a56772ad6",
      "metadata": {
        "id": "1aafef58-6d90-48ce-908f-213a56772ad6"
      },
      "outputs": [],
      "source": [
        "# to csv\n",
        "\n",
        "df.to_csv('grades_new.csv')"
      ]
    },
    {
      "cell_type": "code",
      "execution_count": null,
      "id": "d5dfd423-99a9-40f8-9076-56b608981b7a",
      "metadata": {
        "id": "d5dfd423-99a9-40f8-9076-56b608981b7a"
      },
      "outputs": [],
      "source": [
        "df.to_csv('grades_new.csv', index=False)"
      ]
    },
    {
      "cell_type": "code",
      "execution_count": null,
      "id": "6955ec61-6603-4b95-8b3d-c72fc7cb4f6e",
      "metadata": {
        "id": "6955ec61-6603-4b95-8b3d-c72fc7cb4f6e"
      },
      "outputs": [],
      "source": [
        "df2 = pd.read_csv('grades_new.csv')\n",
        "df2.head()"
      ]
    },
    {
      "cell_type": "code",
      "execution_count": null,
      "id": "c9d0f81d-6dab-45ce-9b28-f831f5e2958f",
      "metadata": {
        "id": "c9d0f81d-6dab-45ce-9b28-f831f5e2958f"
      },
      "outputs": [],
      "source": [
        "df2 = pd.read_csv('grades_new.csv', index_col=0)\n",
        "df2.head()"
      ]
    },
    {
      "cell_type": "markdown",
      "id": "715374f7-46e7-44d8-b3da-206e39c85a7e",
      "metadata": {
        "id": "715374f7-46e7-44d8-b3da-206e39c85a7e"
      },
      "source": [
        "**Merge on Columns**"
      ]
    },
    {
      "cell_type": "code",
      "execution_count": null,
      "id": "1f1c04dd-d1c9-4fb2-b9de-884ca00a3c43",
      "metadata": {
        "id": "1f1c04dd-d1c9-4fb2-b9de-884ca00a3c43",
        "outputId": "b10aa8d6-98bf-4c6c-9ba1-0351b2b64f68"
      },
      "outputs": [
        {
          "data": {
            "text/html": [
              "<div>\n",
              "<style scoped>\n",
              "    .dataframe tbody tr th:only-of-type {\n",
              "        vertical-align: middle;\n",
              "    }\n",
              "\n",
              "    .dataframe tbody tr th {\n",
              "        vertical-align: top;\n",
              "    }\n",
              "\n",
              "    .dataframe thead th {\n",
              "        text-align: right;\n",
              "    }\n",
              "</style>\n",
              "<table border=\"1\" class=\"dataframe\">\n",
              "  <thead>\n",
              "    <tr style=\"text-align: right;\">\n",
              "      <th></th>\n",
              "      <th>key</th>\n",
              "      <th>data1</th>\n",
              "    </tr>\n",
              "  </thead>\n",
              "  <tbody>\n",
              "    <tr>\n",
              "      <th>0</th>\n",
              "      <td>a</td>\n",
              "      <td>1</td>\n",
              "    </tr>\n",
              "    <tr>\n",
              "      <th>1</th>\n",
              "      <td>a</td>\n",
              "      <td>2</td>\n",
              "    </tr>\n",
              "    <tr>\n",
              "      <th>2</th>\n",
              "      <td>b</td>\n",
              "      <td>3</td>\n",
              "    </tr>\n",
              "    <tr>\n",
              "      <th>3</th>\n",
              "      <td>b</td>\n",
              "      <td>4</td>\n",
              "    </tr>\n",
              "    <tr>\n",
              "      <th>4</th>\n",
              "      <td>b</td>\n",
              "      <td>5</td>\n",
              "    </tr>\n",
              "    <tr>\n",
              "      <th>5</th>\n",
              "      <td>c</td>\n",
              "      <td>6</td>\n",
              "    </tr>\n",
              "  </tbody>\n",
              "</table>\n",
              "</div>"
            ],
            "text/plain": [
              "  key  data1\n",
              "0   a      1\n",
              "1   a      2\n",
              "2   b      3\n",
              "3   b      4\n",
              "4   b      5\n",
              "5   c      6"
            ]
          },
          "execution_count": 2,
          "metadata": {},
          "output_type": "execute_result"
        }
      ],
      "source": [
        "import pandas as pd\n",
        "import numpy as np\n",
        "\n",
        "df1 = pd.DataFrame({\n",
        "    \"key\": [\"a\", \"a\", \"b\", \"b\", \"b\", \"c\"],\n",
        "    \"data1\": np.arange(1, 7)\n",
        "})\n",
        "df1"
      ]
    },
    {
      "cell_type": "code",
      "execution_count": null,
      "id": "8b77f789-6a0e-4eb7-b0e9-c692c8d01b4e",
      "metadata": {
        "id": "8b77f789-6a0e-4eb7-b0e9-c692c8d01b4e",
        "outputId": "c9191656-276c-4a01-a942-862be9621893"
      },
      "outputs": [
        {
          "data": {
            "text/html": [
              "<div>\n",
              "<style scoped>\n",
              "    .dataframe tbody tr th:only-of-type {\n",
              "        vertical-align: middle;\n",
              "    }\n",
              "\n",
              "    .dataframe tbody tr th {\n",
              "        vertical-align: top;\n",
              "    }\n",
              "\n",
              "    .dataframe thead th {\n",
              "        text-align: right;\n",
              "    }\n",
              "</style>\n",
              "<table border=\"1\" class=\"dataframe\">\n",
              "  <thead>\n",
              "    <tr style=\"text-align: right;\">\n",
              "      <th></th>\n",
              "      <th>key</th>\n",
              "      <th>data2</th>\n",
              "    </tr>\n",
              "  </thead>\n",
              "  <tbody>\n",
              "    <tr>\n",
              "      <th>0</th>\n",
              "      <td>a</td>\n",
              "      <td>1</td>\n",
              "    </tr>\n",
              "    <tr>\n",
              "      <th>1</th>\n",
              "      <td>b</td>\n",
              "      <td>2</td>\n",
              "    </tr>\n",
              "    <tr>\n",
              "      <th>2</th>\n",
              "      <td>d</td>\n",
              "      <td>3</td>\n",
              "    </tr>\n",
              "  </tbody>\n",
              "</table>\n",
              "</div>"
            ],
            "text/plain": [
              "  key  data2\n",
              "0   a      1\n",
              "1   b      2\n",
              "2   d      3"
            ]
          },
          "execution_count": 3,
          "metadata": {},
          "output_type": "execute_result"
        }
      ],
      "source": [
        "df2 = pd.DataFrame({\n",
        "    \"key\": [\"a\", \"b\", \"d\"],\n",
        "    \"data2\": np.arange(1, 4)\n",
        "})\n",
        "df2"
      ]
    },
    {
      "cell_type": "code",
      "execution_count": null,
      "id": "84c2fb89-36dd-42ef-bc35-99cc92e41a31",
      "metadata": {
        "id": "84c2fb89-36dd-42ef-bc35-99cc92e41a31",
        "outputId": "3c15b3dd-c7cb-4c05-d637-d7608c58db03"
      },
      "outputs": [
        {
          "data": {
            "text/html": [
              "<div>\n",
              "<style scoped>\n",
              "    .dataframe tbody tr th:only-of-type {\n",
              "        vertical-align: middle;\n",
              "    }\n",
              "\n",
              "    .dataframe tbody tr th {\n",
              "        vertical-align: top;\n",
              "    }\n",
              "\n",
              "    .dataframe thead th {\n",
              "        text-align: right;\n",
              "    }\n",
              "</style>\n",
              "<table border=\"1\" class=\"dataframe\">\n",
              "  <thead>\n",
              "    <tr style=\"text-align: right;\">\n",
              "      <th></th>\n",
              "      <th>key</th>\n",
              "      <th>data1</th>\n",
              "      <th>data2</th>\n",
              "    </tr>\n",
              "  </thead>\n",
              "  <tbody>\n",
              "    <tr>\n",
              "      <th>0</th>\n",
              "      <td>a</td>\n",
              "      <td>1</td>\n",
              "      <td>1</td>\n",
              "    </tr>\n",
              "    <tr>\n",
              "      <th>1</th>\n",
              "      <td>a</td>\n",
              "      <td>2</td>\n",
              "      <td>1</td>\n",
              "    </tr>\n",
              "    <tr>\n",
              "      <th>2</th>\n",
              "      <td>b</td>\n",
              "      <td>3</td>\n",
              "      <td>2</td>\n",
              "    </tr>\n",
              "    <tr>\n",
              "      <th>3</th>\n",
              "      <td>b</td>\n",
              "      <td>4</td>\n",
              "      <td>2</td>\n",
              "    </tr>\n",
              "    <tr>\n",
              "      <th>4</th>\n",
              "      <td>b</td>\n",
              "      <td>5</td>\n",
              "      <td>2</td>\n",
              "    </tr>\n",
              "  </tbody>\n",
              "</table>\n",
              "</div>"
            ],
            "text/plain": [
              "  key  data1  data2\n",
              "0   a      1      1\n",
              "1   a      2      1\n",
              "2   b      3      2\n",
              "3   b      4      2\n",
              "4   b      5      2"
            ]
          },
          "execution_count": 6,
          "metadata": {},
          "output_type": "execute_result"
        }
      ],
      "source": [
        "# merge - on\n",
        "\n",
        "pd.merge(df1, df2, on='key')"
      ]
    },
    {
      "cell_type": "code",
      "execution_count": null,
      "id": "402447e7-2ea8-4f7f-858e-320f836b1519",
      "metadata": {
        "id": "402447e7-2ea8-4f7f-858e-320f836b1519",
        "outputId": "cf17cdc0-c890-44f8-8be7-9500a49c1c0c"
      },
      "outputs": [
        {
          "data": {
            "text/html": [
              "<div>\n",
              "<style scoped>\n",
              "    .dataframe tbody tr th:only-of-type {\n",
              "        vertical-align: middle;\n",
              "    }\n",
              "\n",
              "    .dataframe tbody tr th {\n",
              "        vertical-align: top;\n",
              "    }\n",
              "\n",
              "    .dataframe thead th {\n",
              "        text-align: right;\n",
              "    }\n",
              "</style>\n",
              "<table border=\"1\" class=\"dataframe\">\n",
              "  <thead>\n",
              "    <tr style=\"text-align: right;\">\n",
              "      <th></th>\n",
              "      <th>key</th>\n",
              "      <th>data1</th>\n",
              "      <th>data2</th>\n",
              "    </tr>\n",
              "  </thead>\n",
              "  <tbody>\n",
              "    <tr>\n",
              "      <th>0</th>\n",
              "      <td>a</td>\n",
              "      <td>1</td>\n",
              "      <td>1</td>\n",
              "    </tr>\n",
              "    <tr>\n",
              "      <th>1</th>\n",
              "      <td>a</td>\n",
              "      <td>2</td>\n",
              "      <td>1</td>\n",
              "    </tr>\n",
              "    <tr>\n",
              "      <th>2</th>\n",
              "      <td>b</td>\n",
              "      <td>3</td>\n",
              "      <td>2</td>\n",
              "    </tr>\n",
              "    <tr>\n",
              "      <th>3</th>\n",
              "      <td>b</td>\n",
              "      <td>4</td>\n",
              "      <td>2</td>\n",
              "    </tr>\n",
              "    <tr>\n",
              "      <th>4</th>\n",
              "      <td>b</td>\n",
              "      <td>5</td>\n",
              "      <td>2</td>\n",
              "    </tr>\n",
              "  </tbody>\n",
              "</table>\n",
              "</div>"
            ],
            "text/plain": [
              "  key  data1  data2\n",
              "0   a      1      1\n",
              "1   a      2      1\n",
              "2   b      3      2\n",
              "3   b      4      2\n",
              "4   b      5      2"
            ]
          },
          "execution_count": 7,
          "metadata": {},
          "output_type": "execute_result"
        }
      ],
      "source": [
        "# merge - left_on and right_on\n",
        "\n",
        "pd.merge(df1, df2, left_on='a', right_on='key')"
      ]
    },
    {
      "cell_type": "code",
      "execution_count": null,
      "id": "eab24c2d-e2a3-435d-95b2-eac404ecb803",
      "metadata": {
        "id": "eab24c2d-e2a3-435d-95b2-eac404ecb803",
        "outputId": "23538ec7-4e81-4e48-cede-8851891cdade"
      },
      "outputs": [
        {
          "data": {
            "text/html": [
              "<div>\n",
              "<style scoped>\n",
              "    .dataframe tbody tr th:only-of-type {\n",
              "        vertical-align: middle;\n",
              "    }\n",
              "\n",
              "    .dataframe tbody tr th {\n",
              "        vertical-align: top;\n",
              "    }\n",
              "\n",
              "    .dataframe thead th {\n",
              "        text-align: right;\n",
              "    }\n",
              "</style>\n",
              "<table border=\"1\" class=\"dataframe\">\n",
              "  <thead>\n",
              "    <tr style=\"text-align: right;\">\n",
              "      <th></th>\n",
              "      <th>key</th>\n",
              "      <th>data1</th>\n",
              "      <th>data2</th>\n",
              "    </tr>\n",
              "  </thead>\n",
              "  <tbody>\n",
              "    <tr>\n",
              "      <th>0</th>\n",
              "      <td>a</td>\n",
              "      <td>1</td>\n",
              "      <td>1</td>\n",
              "    </tr>\n",
              "    <tr>\n",
              "      <th>1</th>\n",
              "      <td>a</td>\n",
              "      <td>2</td>\n",
              "      <td>1</td>\n",
              "    </tr>\n",
              "    <tr>\n",
              "      <th>2</th>\n",
              "      <td>b</td>\n",
              "      <td>3</td>\n",
              "      <td>2</td>\n",
              "    </tr>\n",
              "    <tr>\n",
              "      <th>3</th>\n",
              "      <td>b</td>\n",
              "      <td>4</td>\n",
              "      <td>2</td>\n",
              "    </tr>\n",
              "    <tr>\n",
              "      <th>4</th>\n",
              "      <td>b</td>\n",
              "      <td>5</td>\n",
              "      <td>2</td>\n",
              "    </tr>\n",
              "  </tbody>\n",
              "</table>\n",
              "</div>"
            ],
            "text/plain": [
              "  key  data1  data2\n",
              "0   a      1      1\n",
              "1   a      2      1\n",
              "2   b      3      2\n",
              "3   b      4      2\n",
              "4   b      5      2"
            ]
          },
          "execution_count": 8,
          "metadata": {},
          "output_type": "execute_result"
        }
      ],
      "source": [
        "# merge - intersection\n",
        "\n",
        "pd.merge(df1, df2, on='key', how='inner')"
      ]
    },
    {
      "cell_type": "code",
      "execution_count": null,
      "id": "0e7636f2-e6f8-4100-9da6-abf02f291a00",
      "metadata": {
        "id": "0e7636f2-e6f8-4100-9da6-abf02f291a00",
        "outputId": "858be31a-99f6-4987-ccce-130031c27f43"
      },
      "outputs": [
        {
          "data": {
            "text/html": [
              "<div>\n",
              "<style scoped>\n",
              "    .dataframe tbody tr th:only-of-type {\n",
              "        vertical-align: middle;\n",
              "    }\n",
              "\n",
              "    .dataframe tbody tr th {\n",
              "        vertical-align: top;\n",
              "    }\n",
              "\n",
              "    .dataframe thead th {\n",
              "        text-align: right;\n",
              "    }\n",
              "</style>\n",
              "<table border=\"1\" class=\"dataframe\">\n",
              "  <thead>\n",
              "    <tr style=\"text-align: right;\">\n",
              "      <th></th>\n",
              "      <th>key</th>\n",
              "      <th>data1</th>\n",
              "      <th>data2</th>\n",
              "    </tr>\n",
              "  </thead>\n",
              "  <tbody>\n",
              "    <tr>\n",
              "      <th>0</th>\n",
              "      <td>a</td>\n",
              "      <td>1</td>\n",
              "      <td>1.0</td>\n",
              "    </tr>\n",
              "    <tr>\n",
              "      <th>1</th>\n",
              "      <td>a</td>\n",
              "      <td>2</td>\n",
              "      <td>1.0</td>\n",
              "    </tr>\n",
              "    <tr>\n",
              "      <th>2</th>\n",
              "      <td>b</td>\n",
              "      <td>3</td>\n",
              "      <td>2.0</td>\n",
              "    </tr>\n",
              "    <tr>\n",
              "      <th>3</th>\n",
              "      <td>b</td>\n",
              "      <td>4</td>\n",
              "      <td>2.0</td>\n",
              "    </tr>\n",
              "    <tr>\n",
              "      <th>4</th>\n",
              "      <td>b</td>\n",
              "      <td>5</td>\n",
              "      <td>2.0</td>\n",
              "    </tr>\n",
              "    <tr>\n",
              "      <th>5</th>\n",
              "      <td>c</td>\n",
              "      <td>6</td>\n",
              "      <td>NaN</td>\n",
              "    </tr>\n",
              "  </tbody>\n",
              "</table>\n",
              "</div>"
            ],
            "text/plain": [
              "  key  data1  data2\n",
              "0   a      1    1.0\n",
              "1   a      2    1.0\n",
              "2   b      3    2.0\n",
              "3   b      4    2.0\n",
              "4   b      5    2.0\n",
              "5   c      6    NaN"
            ]
          },
          "execution_count": 12,
          "metadata": {},
          "output_type": "execute_result"
        }
      ],
      "source": [
        "# merge - left\n",
        "\n",
        "pd.merge(df1, df2, on='key', how='left')"
      ]
    },
    {
      "cell_type": "code",
      "execution_count": null,
      "id": "74b54141-cbf0-4ef9-aa2c-bed1bd1a625b",
      "metadata": {
        "id": "74b54141-cbf0-4ef9-aa2c-bed1bd1a625b",
        "outputId": "953025cd-2e35-4f16-e4d5-7207256dcb9d"
      },
      "outputs": [
        {
          "data": {
            "text/html": [
              "<div>\n",
              "<style scoped>\n",
              "    .dataframe tbody tr th:only-of-type {\n",
              "        vertical-align: middle;\n",
              "    }\n",
              "\n",
              "    .dataframe tbody tr th {\n",
              "        vertical-align: top;\n",
              "    }\n",
              "\n",
              "    .dataframe thead th {\n",
              "        text-align: right;\n",
              "    }\n",
              "</style>\n",
              "<table border=\"1\" class=\"dataframe\">\n",
              "  <thead>\n",
              "    <tr style=\"text-align: right;\">\n",
              "      <th></th>\n",
              "      <th>key</th>\n",
              "      <th>data2</th>\n",
              "      <th>data1</th>\n",
              "    </tr>\n",
              "  </thead>\n",
              "  <tbody>\n",
              "    <tr>\n",
              "      <th>0</th>\n",
              "      <td>a</td>\n",
              "      <td>1.0</td>\n",
              "      <td>1</td>\n",
              "    </tr>\n",
              "    <tr>\n",
              "      <th>1</th>\n",
              "      <td>a</td>\n",
              "      <td>1.0</td>\n",
              "      <td>2</td>\n",
              "    </tr>\n",
              "    <tr>\n",
              "      <th>2</th>\n",
              "      <td>b</td>\n",
              "      <td>2.0</td>\n",
              "      <td>3</td>\n",
              "    </tr>\n",
              "    <tr>\n",
              "      <th>3</th>\n",
              "      <td>b</td>\n",
              "      <td>2.0</td>\n",
              "      <td>4</td>\n",
              "    </tr>\n",
              "    <tr>\n",
              "      <th>4</th>\n",
              "      <td>b</td>\n",
              "      <td>2.0</td>\n",
              "      <td>5</td>\n",
              "    </tr>\n",
              "    <tr>\n",
              "      <th>5</th>\n",
              "      <td>c</td>\n",
              "      <td>NaN</td>\n",
              "      <td>6</td>\n",
              "    </tr>\n",
              "  </tbody>\n",
              "</table>\n",
              "</div>"
            ],
            "text/plain": [
              "  key  data2  data1\n",
              "0   a    1.0      1\n",
              "1   a    1.0      2\n",
              "2   b    2.0      3\n",
              "3   b    2.0      4\n",
              "4   b    2.0      5\n",
              "5   c    NaN      6"
            ]
          },
          "execution_count": 14,
          "metadata": {},
          "output_type": "execute_result"
        }
      ],
      "source": [
        "# merge - right\n",
        "\n",
        "pd.merge(df1, df2, on='key', how='right')"
      ]
    },
    {
      "cell_type": "code",
      "execution_count": null,
      "id": "47a572fd-a17a-412a-95f9-a2a74a99f6c7",
      "metadata": {
        "id": "47a572fd-a17a-412a-95f9-a2a74a99f6c7",
        "outputId": "ada2664e-d4a6-48a0-c957-71569978be69"
      },
      "outputs": [
        {
          "data": {
            "text/html": [
              "<div>\n",
              "<style scoped>\n",
              "    .dataframe tbody tr th:only-of-type {\n",
              "        vertical-align: middle;\n",
              "    }\n",
              "\n",
              "    .dataframe tbody tr th {\n",
              "        vertical-align: top;\n",
              "    }\n",
              "\n",
              "    .dataframe thead th {\n",
              "        text-align: right;\n",
              "    }\n",
              "</style>\n",
              "<table border=\"1\" class=\"dataframe\">\n",
              "  <thead>\n",
              "    <tr style=\"text-align: right;\">\n",
              "      <th></th>\n",
              "      <th>key</th>\n",
              "      <th>data1</th>\n",
              "      <th>data2</th>\n",
              "    </tr>\n",
              "  </thead>\n",
              "  <tbody>\n",
              "    <tr>\n",
              "      <th>0</th>\n",
              "      <td>a</td>\n",
              "      <td>1.0</td>\n",
              "      <td>1.0</td>\n",
              "    </tr>\n",
              "    <tr>\n",
              "      <th>1</th>\n",
              "      <td>a</td>\n",
              "      <td>2.0</td>\n",
              "      <td>1.0</td>\n",
              "    </tr>\n",
              "    <tr>\n",
              "      <th>2</th>\n",
              "      <td>b</td>\n",
              "      <td>3.0</td>\n",
              "      <td>2.0</td>\n",
              "    </tr>\n",
              "    <tr>\n",
              "      <th>3</th>\n",
              "      <td>b</td>\n",
              "      <td>4.0</td>\n",
              "      <td>2.0</td>\n",
              "    </tr>\n",
              "    <tr>\n",
              "      <th>4</th>\n",
              "      <td>b</td>\n",
              "      <td>5.0</td>\n",
              "      <td>2.0</td>\n",
              "    </tr>\n",
              "    <tr>\n",
              "      <th>5</th>\n",
              "      <td>c</td>\n",
              "      <td>6.0</td>\n",
              "      <td>NaN</td>\n",
              "    </tr>\n",
              "    <tr>\n",
              "      <th>6</th>\n",
              "      <td>d</td>\n",
              "      <td>NaN</td>\n",
              "      <td>3.0</td>\n",
              "    </tr>\n",
              "  </tbody>\n",
              "</table>\n",
              "</div>"
            ],
            "text/plain": [
              "  key  data1  data2\n",
              "0   a    1.0    1.0\n",
              "1   a    2.0    1.0\n",
              "2   b    3.0    2.0\n",
              "3   b    4.0    2.0\n",
              "4   b    5.0    2.0\n",
              "5   c    6.0    NaN\n",
              "6   d    NaN    3.0"
            ]
          },
          "execution_count": 11,
          "metadata": {},
          "output_type": "execute_result"
        }
      ],
      "source": [
        "# merge - union\n",
        "\n",
        "pd.merge(df1, df2, on='key', how='outer')"
      ]
    },
    {
      "cell_type": "markdown",
      "id": "52022cc2-6b5a-4b76-8fda-8e97b6ef1bd3",
      "metadata": {
        "id": "52022cc2-6b5a-4b76-8fda-8e97b6ef1bd3"
      },
      "source": [
        "**Merge on Index**"
      ]
    },
    {
      "cell_type": "code",
      "execution_count": null,
      "id": "9df54e25-0b35-4527-b611-4df7760b095c",
      "metadata": {
        "id": "9df54e25-0b35-4527-b611-4df7760b095c",
        "outputId": "d5466975-d1a1-43ba-c08f-dfe024cf3130"
      },
      "outputs": [
        {
          "data": {
            "text/html": [
              "<div>\n",
              "<style scoped>\n",
              "    .dataframe tbody tr th:only-of-type {\n",
              "        vertical-align: middle;\n",
              "    }\n",
              "\n",
              "    .dataframe tbody tr th {\n",
              "        vertical-align: top;\n",
              "    }\n",
              "\n",
              "    .dataframe thead th {\n",
              "        text-align: right;\n",
              "    }\n",
              "</style>\n",
              "<table border=\"1\" class=\"dataframe\">\n",
              "  <thead>\n",
              "    <tr style=\"text-align: right;\">\n",
              "      <th></th>\n",
              "      <th>type</th>\n",
              "      <th>rating</th>\n",
              "    </tr>\n",
              "  </thead>\n",
              "  <tbody>\n",
              "    <tr>\n",
              "      <th>2</th>\n",
              "      <td>a</td>\n",
              "      <td>1</td>\n",
              "    </tr>\n",
              "    <tr>\n",
              "      <th>4</th>\n",
              "      <td>a</td>\n",
              "      <td>2</td>\n",
              "    </tr>\n",
              "    <tr>\n",
              "      <th>6</th>\n",
              "      <td>b</td>\n",
              "      <td>3</td>\n",
              "    </tr>\n",
              "    <tr>\n",
              "      <th>8</th>\n",
              "      <td>b</td>\n",
              "      <td>4</td>\n",
              "    </tr>\n",
              "    <tr>\n",
              "      <th>10</th>\n",
              "      <td>b</td>\n",
              "      <td>5</td>\n",
              "    </tr>\n",
              "    <tr>\n",
              "      <th>12</th>\n",
              "      <td>c</td>\n",
              "      <td>6</td>\n",
              "    </tr>\n",
              "  </tbody>\n",
              "</table>\n",
              "</div>"
            ],
            "text/plain": [
              "   type  rating\n",
              "2     a       1\n",
              "4     a       2\n",
              "6     b       3\n",
              "8     b       4\n",
              "10    b       5\n",
              "12    c       6"
            ]
          },
          "execution_count": 15,
          "metadata": {},
          "output_type": "execute_result"
        }
      ],
      "source": [
        "df1 = pd.DataFrame({\n",
        "    \"type\": [\"a\", \"a\", \"b\", \"b\", \"b\", \"c\"],\n",
        "    \"rating\": np.arange(1, 7),\n",
        "}, index = [2, 4, 6, 8, 10, 12])\n",
        "df1"
      ]
    },
    {
      "cell_type": "code",
      "execution_count": null,
      "id": "f48b06d2-c4e0-4720-aa57-38f25cd4df84",
      "metadata": {
        "id": "f48b06d2-c4e0-4720-aa57-38f25cd4df84",
        "outputId": "924d8352-7df0-4da8-d428-6dd144c61809"
      },
      "outputs": [
        {
          "data": {
            "text/html": [
              "<div>\n",
              "<style scoped>\n",
              "    .dataframe tbody tr th:only-of-type {\n",
              "        vertical-align: middle;\n",
              "    }\n",
              "\n",
              "    .dataframe tbody tr th {\n",
              "        vertical-align: top;\n",
              "    }\n",
              "\n",
              "    .dataframe thead th {\n",
              "        text-align: right;\n",
              "    }\n",
              "</style>\n",
              "<table border=\"1\" class=\"dataframe\">\n",
              "  <thead>\n",
              "    <tr style=\"text-align: right;\">\n",
              "      <th></th>\n",
              "      <th>range</th>\n",
              "    </tr>\n",
              "  </thead>\n",
              "  <tbody>\n",
              "    <tr>\n",
              "      <th>4</th>\n",
              "      <td>3</td>\n",
              "    </tr>\n",
              "    <tr>\n",
              "      <th>5</th>\n",
              "      <td>4</td>\n",
              "    </tr>\n",
              "    <tr>\n",
              "      <th>6</th>\n",
              "      <td>5</td>\n",
              "    </tr>\n",
              "  </tbody>\n",
              "</table>\n",
              "</div>"
            ],
            "text/plain": [
              "   range\n",
              "4      3\n",
              "5      4\n",
              "6      5"
            ]
          },
          "execution_count": 16,
          "metadata": {},
          "output_type": "execute_result"
        }
      ],
      "source": [
        "df2 = pd.DataFrame({\n",
        "    \"range\": np.arange(3, 6)\n",
        "}, index = [4, 5, 6])\n",
        "df2"
      ]
    },
    {
      "cell_type": "code",
      "execution_count": null,
      "id": "18794a61-9cbf-4327-98a0-94b8db2da295",
      "metadata": {
        "id": "18794a61-9cbf-4327-98a0-94b8db2da295",
        "outputId": "6c90e57e-aeb5-497a-87f2-5fbe9db4e73d"
      },
      "outputs": [
        {
          "data": {
            "text/html": [
              "<div>\n",
              "<style scoped>\n",
              "    .dataframe tbody tr th:only-of-type {\n",
              "        vertical-align: middle;\n",
              "    }\n",
              "\n",
              "    .dataframe tbody tr th {\n",
              "        vertical-align: top;\n",
              "    }\n",
              "\n",
              "    .dataframe thead th {\n",
              "        text-align: right;\n",
              "    }\n",
              "</style>\n",
              "<table border=\"1\" class=\"dataframe\">\n",
              "  <thead>\n",
              "    <tr style=\"text-align: right;\">\n",
              "      <th></th>\n",
              "      <th>type</th>\n",
              "      <th>rating</th>\n",
              "      <th>range</th>\n",
              "    </tr>\n",
              "  </thead>\n",
              "  <tbody>\n",
              "    <tr>\n",
              "      <th>4</th>\n",
              "      <td>a</td>\n",
              "      <td>2</td>\n",
              "      <td>3</td>\n",
              "    </tr>\n",
              "    <tr>\n",
              "      <th>6</th>\n",
              "      <td>b</td>\n",
              "      <td>3</td>\n",
              "      <td>5</td>\n",
              "    </tr>\n",
              "  </tbody>\n",
              "</table>\n",
              "</div>"
            ],
            "text/plain": [
              "  type  rating  range\n",
              "4    a       2      3\n",
              "6    b       3      5"
            ]
          },
          "execution_count": 18,
          "metadata": {},
          "output_type": "execute_result"
        }
      ],
      "source": [
        "# merge on indices\n",
        "\n",
        "pd.merge(df1, df2, left_index=True, right_index=True)"
      ]
    },
    {
      "cell_type": "code",
      "execution_count": null,
      "id": "c899515e-d792-40ba-81da-bc2854c3fc12",
      "metadata": {
        "id": "c899515e-d792-40ba-81da-bc2854c3fc12",
        "outputId": "d047c220-3ca6-4a5d-a0ae-09766f23cf17"
      },
      "outputs": [
        {
          "data": {
            "text/html": [
              "<div>\n",
              "<style scoped>\n",
              "    .dataframe tbody tr th:only-of-type {\n",
              "        vertical-align: middle;\n",
              "    }\n",
              "\n",
              "    .dataframe tbody tr th {\n",
              "        vertical-align: top;\n",
              "    }\n",
              "\n",
              "    .dataframe thead th {\n",
              "        text-align: right;\n",
              "    }\n",
              "</style>\n",
              "<table border=\"1\" class=\"dataframe\">\n",
              "  <thead>\n",
              "    <tr style=\"text-align: right;\">\n",
              "      <th></th>\n",
              "      <th>type</th>\n",
              "      <th>rating</th>\n",
              "      <th>range</th>\n",
              "    </tr>\n",
              "  </thead>\n",
              "  <tbody>\n",
              "    <tr>\n",
              "      <th>2</th>\n",
              "      <td>a</td>\n",
              "      <td>1</td>\n",
              "      <td>NaN</td>\n",
              "    </tr>\n",
              "    <tr>\n",
              "      <th>4</th>\n",
              "      <td>a</td>\n",
              "      <td>2</td>\n",
              "      <td>3.0</td>\n",
              "    </tr>\n",
              "    <tr>\n",
              "      <th>6</th>\n",
              "      <td>b</td>\n",
              "      <td>3</td>\n",
              "      <td>5.0</td>\n",
              "    </tr>\n",
              "    <tr>\n",
              "      <th>8</th>\n",
              "      <td>b</td>\n",
              "      <td>4</td>\n",
              "      <td>NaN</td>\n",
              "    </tr>\n",
              "    <tr>\n",
              "      <th>10</th>\n",
              "      <td>b</td>\n",
              "      <td>5</td>\n",
              "      <td>NaN</td>\n",
              "    </tr>\n",
              "    <tr>\n",
              "      <th>12</th>\n",
              "      <td>c</td>\n",
              "      <td>6</td>\n",
              "      <td>NaN</td>\n",
              "    </tr>\n",
              "  </tbody>\n",
              "</table>\n",
              "</div>"
            ],
            "text/plain": [
              "   type  rating  range\n",
              "2     a       1    NaN\n",
              "4     a       2    3.0\n",
              "6     b       3    5.0\n",
              "8     b       4    NaN\n",
              "10    b       5    NaN\n",
              "12    c       6    NaN"
            ]
          },
          "execution_count": 22,
          "metadata": {},
          "output_type": "execute_result"
        }
      ],
      "source": [
        "# join\n",
        "\n",
        "df1.join(df2)"
      ]
    },
    {
      "cell_type": "markdown",
      "id": "eb8e54c1-1b40-4bb4-89da-b664134790c3",
      "metadata": {
        "id": "eb8e54c1-1b40-4bb4-89da-b664134790c3"
      },
      "source": [
        "**Concat on Series**"
      ]
    },
    {
      "cell_type": "code",
      "execution_count": null,
      "id": "9553302b-c7cc-4052-87ed-0422730c4490",
      "metadata": {
        "id": "9553302b-c7cc-4052-87ed-0422730c4490",
        "outputId": "84503c36-09ea-4e77-b58e-4f81eba2c8cb"
      },
      "outputs": [
        {
          "data": {
            "text/plain": [
              "a    1\n",
              "b    2\n",
              "dtype: int64"
            ]
          },
          "execution_count": 23,
          "metadata": {},
          "output_type": "execute_result"
        }
      ],
      "source": [
        "s1 = pd.Series({'a': 1, 'b': 2})\n",
        "s1"
      ]
    },
    {
      "cell_type": "code",
      "execution_count": null,
      "id": "fde10378-62c6-479e-881b-4a289e5220a8",
      "metadata": {
        "id": "fde10378-62c6-479e-881b-4a289e5220a8",
        "outputId": "530040b3-2a38-407c-8a7e-c30c4ce6f840"
      },
      "outputs": [
        {
          "data": {
            "text/plain": [
              "c    3\n",
              "d    4\n",
              "a    5\n",
              "dtype: int64"
            ]
          },
          "execution_count": 24,
          "metadata": {},
          "output_type": "execute_result"
        }
      ],
      "source": [
        "s2 = pd.Series({'c': 3, 'd': 4, 'a': 5})\n",
        "s2"
      ]
    },
    {
      "cell_type": "code",
      "execution_count": null,
      "id": "d62aa643-b33b-4c2b-b04f-8ae4fc147f53",
      "metadata": {
        "id": "d62aa643-b33b-4c2b-b04f-8ae4fc147f53",
        "outputId": "5fcf9e42-ad95-4f39-f811-6832c1296193"
      },
      "outputs": [
        {
          "data": {
            "text/plain": [
              "e    6\n",
              "f    7\n",
              "dtype: int64"
            ]
          },
          "execution_count": 25,
          "metadata": {},
          "output_type": "execute_result"
        }
      ],
      "source": [
        "s3 = pd.Series({'e': 6, 'f': 7})\n",
        "s3"
      ]
    },
    {
      "cell_type": "code",
      "execution_count": null,
      "id": "21ecafe1-cd39-4bdf-9e8f-01d04973403f",
      "metadata": {
        "id": "21ecafe1-cd39-4bdf-9e8f-01d04973403f",
        "outputId": "f8a188a1-7cd8-4741-8004-513ee6e3e6f0"
      },
      "outputs": [
        {
          "data": {
            "text/plain": [
              "a    1\n",
              "b    2\n",
              "c    3\n",
              "d    4\n",
              "a    5\n",
              "e    6\n",
              "f    7\n",
              "dtype: int64"
            ]
          },
          "execution_count": 27,
          "metadata": {},
          "output_type": "execute_result"
        }
      ],
      "source": [
        "# concat by index\n",
        "\n",
        "pd.concat([s1, s2, s3], axis='index')"
      ]
    },
    {
      "cell_type": "code",
      "execution_count": null,
      "id": "3c1fb31c-1f2c-4cf5-b553-4a70931c8285",
      "metadata": {
        "id": "3c1fb31c-1f2c-4cf5-b553-4a70931c8285",
        "outputId": "78a40f49-8cd5-4fa8-f933-5c87cbf43654"
      },
      "outputs": [
        {
          "data": {
            "text/html": [
              "<div>\n",
              "<style scoped>\n",
              "    .dataframe tbody tr th:only-of-type {\n",
              "        vertical-align: middle;\n",
              "    }\n",
              "\n",
              "    .dataframe tbody tr th {\n",
              "        vertical-align: top;\n",
              "    }\n",
              "\n",
              "    .dataframe thead th {\n",
              "        text-align: right;\n",
              "    }\n",
              "</style>\n",
              "<table border=\"1\" class=\"dataframe\">\n",
              "  <thead>\n",
              "    <tr style=\"text-align: right;\">\n",
              "      <th></th>\n",
              "      <th>0</th>\n",
              "      <th>1</th>\n",
              "      <th>2</th>\n",
              "    </tr>\n",
              "  </thead>\n",
              "  <tbody>\n",
              "    <tr>\n",
              "      <th>a</th>\n",
              "      <td>1.0</td>\n",
              "      <td>5.0</td>\n",
              "      <td>NaN</td>\n",
              "    </tr>\n",
              "    <tr>\n",
              "      <th>b</th>\n",
              "      <td>2.0</td>\n",
              "      <td>NaN</td>\n",
              "      <td>NaN</td>\n",
              "    </tr>\n",
              "    <tr>\n",
              "      <th>c</th>\n",
              "      <td>NaN</td>\n",
              "      <td>3.0</td>\n",
              "      <td>NaN</td>\n",
              "    </tr>\n",
              "    <tr>\n",
              "      <th>d</th>\n",
              "      <td>NaN</td>\n",
              "      <td>4.0</td>\n",
              "      <td>NaN</td>\n",
              "    </tr>\n",
              "    <tr>\n",
              "      <th>e</th>\n",
              "      <td>NaN</td>\n",
              "      <td>NaN</td>\n",
              "      <td>6.0</td>\n",
              "    </tr>\n",
              "    <tr>\n",
              "      <th>f</th>\n",
              "      <td>NaN</td>\n",
              "      <td>NaN</td>\n",
              "      <td>7.0</td>\n",
              "    </tr>\n",
              "  </tbody>\n",
              "</table>\n",
              "</div>"
            ],
            "text/plain": [
              "     0    1    2\n",
              "a  1.0  5.0  NaN\n",
              "b  2.0  NaN  NaN\n",
              "c  NaN  3.0  NaN\n",
              "d  NaN  4.0  NaN\n",
              "e  NaN  NaN  6.0\n",
              "f  NaN  NaN  7.0"
            ]
          },
          "execution_count": 28,
          "metadata": {},
          "output_type": "execute_result"
        }
      ],
      "source": [
        "# concat by columns\n",
        "\n",
        "pd.concat([s1, s2, s3], axis='columns')"
      ]
    },
    {
      "cell_type": "code",
      "execution_count": null,
      "id": "1f0e2f60-0e0d-408d-b53f-d551ef6a7bba",
      "metadata": {
        "id": "1f0e2f60-0e0d-408d-b53f-d551ef6a7bba",
        "outputId": "8403cb39-ad6b-418e-b9cf-57f6ba2d60ca"
      },
      "outputs": [
        {
          "data": {
            "text/html": [
              "<div>\n",
              "<style scoped>\n",
              "    .dataframe tbody tr th:only-of-type {\n",
              "        vertical-align: middle;\n",
              "    }\n",
              "\n",
              "    .dataframe tbody tr th {\n",
              "        vertical-align: top;\n",
              "    }\n",
              "\n",
              "    .dataframe thead th {\n",
              "        text-align: right;\n",
              "    }\n",
              "</style>\n",
              "<table border=\"1\" class=\"dataframe\">\n",
              "  <thead>\n",
              "    <tr style=\"text-align: right;\">\n",
              "      <th></th>\n",
              "      <th>A</th>\n",
              "      <th>B</th>\n",
              "      <th>C</th>\n",
              "    </tr>\n",
              "  </thead>\n",
              "  <tbody>\n",
              "    <tr>\n",
              "      <th>a</th>\n",
              "      <td>1.0</td>\n",
              "      <td>5.0</td>\n",
              "      <td>NaN</td>\n",
              "    </tr>\n",
              "    <tr>\n",
              "      <th>b</th>\n",
              "      <td>2.0</td>\n",
              "      <td>NaN</td>\n",
              "      <td>NaN</td>\n",
              "    </tr>\n",
              "    <tr>\n",
              "      <th>c</th>\n",
              "      <td>NaN</td>\n",
              "      <td>3.0</td>\n",
              "      <td>NaN</td>\n",
              "    </tr>\n",
              "    <tr>\n",
              "      <th>d</th>\n",
              "      <td>NaN</td>\n",
              "      <td>4.0</td>\n",
              "      <td>NaN</td>\n",
              "    </tr>\n",
              "    <tr>\n",
              "      <th>e</th>\n",
              "      <td>NaN</td>\n",
              "      <td>NaN</td>\n",
              "      <td>6.0</td>\n",
              "    </tr>\n",
              "    <tr>\n",
              "      <th>f</th>\n",
              "      <td>NaN</td>\n",
              "      <td>NaN</td>\n",
              "      <td>7.0</td>\n",
              "    </tr>\n",
              "  </tbody>\n",
              "</table>\n",
              "</div>"
            ],
            "text/plain": [
              "     A    B    C\n",
              "a  1.0  5.0  NaN\n",
              "b  2.0  NaN  NaN\n",
              "c  NaN  3.0  NaN\n",
              "d  NaN  4.0  NaN\n",
              "e  NaN  NaN  6.0\n",
              "f  NaN  NaN  7.0"
            ]
          },
          "execution_count": 30,
          "metadata": {},
          "output_type": "execute_result"
        }
      ],
      "source": [
        "# concat - give column names using keys\n",
        "\n",
        "pd.concat([s1, s2, s3], axis='columns', keys=['A', 'B', 'C'])"
      ]
    },
    {
      "cell_type": "code",
      "execution_count": null,
      "id": "6bf808bc-6c16-4860-9f6d-8cf8dc80649e",
      "metadata": {
        "id": "6bf808bc-6c16-4860-9f6d-8cf8dc80649e",
        "outputId": "c945c3be-1056-44c7-ae4f-bf083af7ef01"
      },
      "outputs": [
        {
          "data": {
            "text/html": [
              "<div>\n",
              "<style scoped>\n",
              "    .dataframe tbody tr th:only-of-type {\n",
              "        vertical-align: middle;\n",
              "    }\n",
              "\n",
              "    .dataframe tbody tr th {\n",
              "        vertical-align: top;\n",
              "    }\n",
              "\n",
              "    .dataframe thead th {\n",
              "        text-align: right;\n",
              "    }\n",
              "</style>\n",
              "<table border=\"1\" class=\"dataframe\">\n",
              "  <thead>\n",
              "    <tr style=\"text-align: right;\">\n",
              "      <th></th>\n",
              "      <th>A</th>\n",
              "      <th>B</th>\n",
              "      <th>C</th>\n",
              "    </tr>\n",
              "  </thead>\n",
              "  <tbody>\n",
              "    <tr>\n",
              "      <th>a</th>\n",
              "      <td>1.0</td>\n",
              "      <td>5.0</td>\n",
              "      <td>NaN</td>\n",
              "    </tr>\n",
              "    <tr>\n",
              "      <th>b</th>\n",
              "      <td>2.0</td>\n",
              "      <td>NaN</td>\n",
              "      <td>NaN</td>\n",
              "    </tr>\n",
              "    <tr>\n",
              "      <th>c</th>\n",
              "      <td>NaN</td>\n",
              "      <td>3.0</td>\n",
              "      <td>NaN</td>\n",
              "    </tr>\n",
              "    <tr>\n",
              "      <th>d</th>\n",
              "      <td>NaN</td>\n",
              "      <td>4.0</td>\n",
              "      <td>NaN</td>\n",
              "    </tr>\n",
              "    <tr>\n",
              "      <th>e</th>\n",
              "      <td>NaN</td>\n",
              "      <td>NaN</td>\n",
              "      <td>6.0</td>\n",
              "    </tr>\n",
              "    <tr>\n",
              "      <th>f</th>\n",
              "      <td>NaN</td>\n",
              "      <td>NaN</td>\n",
              "      <td>7.0</td>\n",
              "    </tr>\n",
              "  </tbody>\n",
              "</table>\n",
              "</div>"
            ],
            "text/plain": [
              "     A    B    C\n",
              "a  1.0  5.0  NaN\n",
              "b  2.0  NaN  NaN\n",
              "c  NaN  3.0  NaN\n",
              "d  NaN  4.0  NaN\n",
              "e  NaN  NaN  6.0\n",
              "f  NaN  NaN  7.0"
            ]
          },
          "execution_count": 33,
          "metadata": {},
          "output_type": "execute_result"
        }
      ],
      "source": [
        "# concat - inner join\n",
        "\n",
        "pd.concat([s1, s2, s3], axis='columns', keys=['A', 'B', 'C'])"
      ]
    },
    {
      "cell_type": "markdown",
      "id": "3f2d2e01-198a-4cd9-8cfe-57f81ff3649d",
      "metadata": {
        "id": "3f2d2e01-198a-4cd9-8cfe-57f81ff3649d"
      },
      "source": [
        "**Concat on DataFrames**"
      ]
    },
    {
      "cell_type": "code",
      "execution_count": null,
      "id": "35f6181c-a664-4dfd-a160-d07a69de3d54",
      "metadata": {
        "id": "35f6181c-a664-4dfd-a160-d07a69de3d54",
        "outputId": "95708cda-3b8b-4dfe-841d-2495ad3093a9"
      },
      "outputs": [
        {
          "data": {
            "text/html": [
              "<div>\n",
              "<style scoped>\n",
              "    .dataframe tbody tr th:only-of-type {\n",
              "        vertical-align: middle;\n",
              "    }\n",
              "\n",
              "    .dataframe tbody tr th {\n",
              "        vertical-align: top;\n",
              "    }\n",
              "\n",
              "    .dataframe thead th {\n",
              "        text-align: right;\n",
              "    }\n",
              "</style>\n",
              "<table border=\"1\" class=\"dataframe\">\n",
              "  <thead>\n",
              "    <tr style=\"text-align: right;\">\n",
              "      <th></th>\n",
              "      <th>one</th>\n",
              "      <th>two</th>\n",
              "    </tr>\n",
              "  </thead>\n",
              "  <tbody>\n",
              "    <tr>\n",
              "      <th>0</th>\n",
              "      <td>a</td>\n",
              "      <td>1</td>\n",
              "    </tr>\n",
              "    <tr>\n",
              "      <th>1</th>\n",
              "      <td>b</td>\n",
              "      <td>2</td>\n",
              "    </tr>\n",
              "  </tbody>\n",
              "</table>\n",
              "</div>"
            ],
            "text/plain": [
              "  one  two\n",
              "0   a    1\n",
              "1   b    2"
            ]
          },
          "execution_count": 34,
          "metadata": {},
          "output_type": "execute_result"
        }
      ],
      "source": [
        "df1 = pd.DataFrame([['a', 1], ['b', 2]], columns=['one', 'two'])\n",
        "df1"
      ]
    },
    {
      "cell_type": "code",
      "execution_count": null,
      "id": "f9779826-086d-448b-99e3-8d30ff4ae5c6",
      "metadata": {
        "id": "f9779826-086d-448b-99e3-8d30ff4ae5c6",
        "outputId": "08a393e5-fbac-481b-aba1-f4d00b1f8505"
      },
      "outputs": [
        {
          "data": {
            "text/html": [
              "<div>\n",
              "<style scoped>\n",
              "    .dataframe tbody tr th:only-of-type {\n",
              "        vertical-align: middle;\n",
              "    }\n",
              "\n",
              "    .dataframe tbody tr th {\n",
              "        vertical-align: top;\n",
              "    }\n",
              "\n",
              "    .dataframe thead th {\n",
              "        text-align: right;\n",
              "    }\n",
              "</style>\n",
              "<table border=\"1\" class=\"dataframe\">\n",
              "  <thead>\n",
              "    <tr style=\"text-align: right;\">\n",
              "      <th></th>\n",
              "      <th>three</th>\n",
              "      <th>four</th>\n",
              "    </tr>\n",
              "  </thead>\n",
              "  <tbody>\n",
              "    <tr>\n",
              "      <th>0</th>\n",
              "      <td>c</td>\n",
              "      <td>3</td>\n",
              "    </tr>\n",
              "    <tr>\n",
              "      <th>1</th>\n",
              "      <td>d</td>\n",
              "      <td>4</td>\n",
              "    </tr>\n",
              "  </tbody>\n",
              "</table>\n",
              "</div>"
            ],
            "text/plain": [
              "  three  four\n",
              "0     c     3\n",
              "1     d     4"
            ]
          },
          "execution_count": 35,
          "metadata": {},
          "output_type": "execute_result"
        }
      ],
      "source": [
        "df2 = pd.DataFrame([['c', 3], ['d', 4]], columns=['three', 'four'])\n",
        "df2"
      ]
    },
    {
      "cell_type": "code",
      "execution_count": null,
      "id": "a837f74a-8200-4ace-9b72-145245b30bfb",
      "metadata": {
        "id": "a837f74a-8200-4ace-9b72-145245b30bfb",
        "outputId": "da0504bd-8445-4bcb-e626-42135635ba3c"
      },
      "outputs": [
        {
          "data": {
            "text/html": [
              "<div>\n",
              "<style scoped>\n",
              "    .dataframe tbody tr th:only-of-type {\n",
              "        vertical-align: middle;\n",
              "    }\n",
              "\n",
              "    .dataframe tbody tr th {\n",
              "        vertical-align: top;\n",
              "    }\n",
              "\n",
              "    .dataframe thead th {\n",
              "        text-align: right;\n",
              "    }\n",
              "</style>\n",
              "<table border=\"1\" class=\"dataframe\">\n",
              "  <thead>\n",
              "    <tr style=\"text-align: right;\">\n",
              "      <th></th>\n",
              "      <th>one</th>\n",
              "      <th>two</th>\n",
              "      <th>three</th>\n",
              "      <th>four</th>\n",
              "    </tr>\n",
              "  </thead>\n",
              "  <tbody>\n",
              "    <tr>\n",
              "      <th>0</th>\n",
              "      <td>a</td>\n",
              "      <td>1.0</td>\n",
              "      <td>NaN</td>\n",
              "      <td>NaN</td>\n",
              "    </tr>\n",
              "    <tr>\n",
              "      <th>1</th>\n",
              "      <td>b</td>\n",
              "      <td>2.0</td>\n",
              "      <td>NaN</td>\n",
              "      <td>NaN</td>\n",
              "    </tr>\n",
              "    <tr>\n",
              "      <th>0</th>\n",
              "      <td>NaN</td>\n",
              "      <td>NaN</td>\n",
              "      <td>c</td>\n",
              "      <td>3.0</td>\n",
              "    </tr>\n",
              "    <tr>\n",
              "      <th>1</th>\n",
              "      <td>NaN</td>\n",
              "      <td>NaN</td>\n",
              "      <td>d</td>\n",
              "      <td>4.0</td>\n",
              "    </tr>\n",
              "  </tbody>\n",
              "</table>\n",
              "</div>"
            ],
            "text/plain": [
              "   one  two three  four\n",
              "0    a  1.0   NaN   NaN\n",
              "1    b  2.0   NaN   NaN\n",
              "0  NaN  NaN     c   3.0\n",
              "1  NaN  NaN     d   4.0"
            ]
          },
          "execution_count": 36,
          "metadata": {},
          "output_type": "execute_result"
        }
      ],
      "source": [
        "# concat by rows\n",
        "\n",
        "pd.concat([df1, df2], axis='index')"
      ]
    },
    {
      "cell_type": "code",
      "execution_count": null,
      "id": "d1870218-be68-483e-a4f9-9257a0d677ee",
      "metadata": {
        "id": "d1870218-be68-483e-a4f9-9257a0d677ee",
        "outputId": "c5346883-db45-4571-84df-eb20c9decd89"
      },
      "outputs": [
        {
          "data": {
            "text/html": [
              "<div>\n",
              "<style scoped>\n",
              "    .dataframe tbody tr th:only-of-type {\n",
              "        vertical-align: middle;\n",
              "    }\n",
              "\n",
              "    .dataframe tbody tr th {\n",
              "        vertical-align: top;\n",
              "    }\n",
              "\n",
              "    .dataframe thead th {\n",
              "        text-align: right;\n",
              "    }\n",
              "</style>\n",
              "<table border=\"1\" class=\"dataframe\">\n",
              "  <thead>\n",
              "    <tr style=\"text-align: right;\">\n",
              "      <th></th>\n",
              "      <th>one</th>\n",
              "      <th>two</th>\n",
              "      <th>three</th>\n",
              "      <th>four</th>\n",
              "    </tr>\n",
              "  </thead>\n",
              "  <tbody>\n",
              "    <tr>\n",
              "      <th>0</th>\n",
              "      <td>a</td>\n",
              "      <td>1.0</td>\n",
              "      <td>NaN</td>\n",
              "      <td>NaN</td>\n",
              "    </tr>\n",
              "    <tr>\n",
              "      <th>1</th>\n",
              "      <td>b</td>\n",
              "      <td>2.0</td>\n",
              "      <td>NaN</td>\n",
              "      <td>NaN</td>\n",
              "    </tr>\n",
              "    <tr>\n",
              "      <th>2</th>\n",
              "      <td>NaN</td>\n",
              "      <td>NaN</td>\n",
              "      <td>c</td>\n",
              "      <td>3.0</td>\n",
              "    </tr>\n",
              "    <tr>\n",
              "      <th>3</th>\n",
              "      <td>NaN</td>\n",
              "      <td>NaN</td>\n",
              "      <td>d</td>\n",
              "      <td>4.0</td>\n",
              "    </tr>\n",
              "  </tbody>\n",
              "</table>\n",
              "</div>"
            ],
            "text/plain": [
              "   one  two three  four\n",
              "0    a  1.0   NaN   NaN\n",
              "1    b  2.0   NaN   NaN\n",
              "2  NaN  NaN     c   3.0\n",
              "3  NaN  NaN     d   4.0"
            ]
          },
          "execution_count": 37,
          "metadata": {},
          "output_type": "execute_result"
        }
      ],
      "source": [
        "# concat by rows - ignore_index\n",
        "\n",
        "pd.concat([df1, df2], axis='index', ignore_index=True)"
      ]
    },
    {
      "cell_type": "code",
      "execution_count": null,
      "id": "7ef8e671-58f4-4dcf-9825-75f81c3b9f69",
      "metadata": {
        "id": "7ef8e671-58f4-4dcf-9825-75f81c3b9f69",
        "outputId": "cfeea43e-a540-4786-c23c-56e782bf37b2"
      },
      "outputs": [
        {
          "data": {
            "text/html": [
              "<div>\n",
              "<style scoped>\n",
              "    .dataframe tbody tr th:only-of-type {\n",
              "        vertical-align: middle;\n",
              "    }\n",
              "\n",
              "    .dataframe tbody tr th {\n",
              "        vertical-align: top;\n",
              "    }\n",
              "\n",
              "    .dataframe thead th {\n",
              "        text-align: right;\n",
              "    }\n",
              "</style>\n",
              "<table border=\"1\" class=\"dataframe\">\n",
              "  <thead>\n",
              "    <tr style=\"text-align: right;\">\n",
              "      <th></th>\n",
              "      <th>one</th>\n",
              "      <th>two</th>\n",
              "      <th>three</th>\n",
              "      <th>four</th>\n",
              "    </tr>\n",
              "  </thead>\n",
              "  <tbody>\n",
              "    <tr>\n",
              "      <th>0</th>\n",
              "      <td>a</td>\n",
              "      <td>1</td>\n",
              "      <td>c</td>\n",
              "      <td>3</td>\n",
              "    </tr>\n",
              "    <tr>\n",
              "      <th>1</th>\n",
              "      <td>b</td>\n",
              "      <td>2</td>\n",
              "      <td>d</td>\n",
              "      <td>4</td>\n",
              "    </tr>\n",
              "  </tbody>\n",
              "</table>\n",
              "</div>"
            ],
            "text/plain": [
              "  one  two three  four\n",
              "0   a    1     c     3\n",
              "1   b    2     d     4"
            ]
          },
          "execution_count": 38,
          "metadata": {},
          "output_type": "execute_result"
        }
      ],
      "source": [
        "# concat by columns\n",
        "\n",
        "pd.concat([df1, df2], axis='columns')"
      ]
    },
    {
      "cell_type": "markdown",
      "id": "3eadf15f-9760-49b5-88be-06cba7238be9",
      "metadata": {
        "id": "3eadf15f-9760-49b5-88be-06cba7238be9"
      },
      "source": [
        "**Row-Column Rotation**"
      ]
    },
    {
      "cell_type": "code",
      "execution_count": null,
      "id": "e8d88e52-af27-4b56-b5dd-16b28096e82f",
      "metadata": {
        "id": "e8d88e52-af27-4b56-b5dd-16b28096e82f",
        "outputId": "2d63f074-b198-47e2-b3e3-e4224915ceee"
      },
      "outputs": [
        {
          "data": {
            "text/html": [
              "<div>\n",
              "<style scoped>\n",
              "    .dataframe tbody tr th:only-of-type {\n",
              "        vertical-align: middle;\n",
              "    }\n",
              "\n",
              "    .dataframe tbody tr th {\n",
              "        vertical-align: top;\n",
              "    }\n",
              "\n",
              "    .dataframe thead th {\n",
              "        text-align: right;\n",
              "    }\n",
              "</style>\n",
              "<table border=\"1\" class=\"dataframe\">\n",
              "  <thead>\n",
              "    <tr style=\"text-align: right;\">\n",
              "      <th></th>\n",
              "      <th>one</th>\n",
              "      <th>two</th>\n",
              "      <th>three</th>\n",
              "    </tr>\n",
              "  </thead>\n",
              "  <tbody>\n",
              "    <tr>\n",
              "      <th>Lahore</th>\n",
              "      <td>1</td>\n",
              "      <td>2</td>\n",
              "      <td>3</td>\n",
              "    </tr>\n",
              "    <tr>\n",
              "      <th>Karachi</th>\n",
              "      <td>4</td>\n",
              "      <td>5</td>\n",
              "      <td>6</td>\n",
              "    </tr>\n",
              "  </tbody>\n",
              "</table>\n",
              "</div>"
            ],
            "text/plain": [
              "         one  two  three\n",
              "Lahore     1    2      3\n",
              "Karachi    4    5      6"
            ]
          },
          "execution_count": 39,
          "metadata": {},
          "output_type": "execute_result"
        }
      ],
      "source": [
        "df = pd.DataFrame(\n",
        "    np.arange(1, 7).reshape((2, 3)),\n",
        "    index = ['Lahore', 'Karachi'],\n",
        "    columns = ['one', 'two', 'three']\n",
        ")\n",
        "df"
      ]
    },
    {
      "cell_type": "code",
      "execution_count": null,
      "id": "9e1c0608-f47e-43cc-a091-4966cad90566",
      "metadata": {
        "id": "9e1c0608-f47e-43cc-a091-4966cad90566",
        "outputId": "ad30a28c-7152-4257-8bca-85b9faa64db8"
      },
      "outputs": [
        {
          "data": {
            "text/plain": [
              "Lahore   one      1\n",
              "         two      2\n",
              "         three    3\n",
              "Karachi  one      4\n",
              "         two      5\n",
              "         three    6\n",
              "dtype: int32"
            ]
          },
          "execution_count": 43,
          "metadata": {},
          "output_type": "execute_result"
        }
      ],
      "source": [
        "# stack\n",
        "\n",
        "res = df.stack()\n",
        "res"
      ]
    },
    {
      "cell_type": "code",
      "execution_count": null,
      "id": "7f10c23b-8298-46cf-9ee8-a5f565f9d761",
      "metadata": {
        "id": "7f10c23b-8298-46cf-9ee8-a5f565f9d761",
        "outputId": "7f16b265-abeb-4b82-96b8-4b97fd4d7006"
      },
      "outputs": [
        {
          "data": {
            "text/plain": [
              "one      1\n",
              "two      2\n",
              "three    3\n",
              "dtype: int32"
            ]
          },
          "execution_count": 44,
          "metadata": {},
          "output_type": "execute_result"
        }
      ],
      "source": [
        "# hierarchical indexing\n",
        "\n",
        "res.loc['Lahore']"
      ]
    },
    {
      "cell_type": "code",
      "execution_count": null,
      "id": "c4680b27-1005-427d-bdc0-f3eb610b8b6e",
      "metadata": {
        "id": "c4680b27-1005-427d-bdc0-f3eb610b8b6e",
        "outputId": "ba12d873-2d72-4f75-caa7-1409336223b2"
      },
      "outputs": [
        {
          "data": {
            "text/plain": [
              "2"
            ]
          },
          "execution_count": 45,
          "metadata": {},
          "output_type": "execute_result"
        }
      ],
      "source": [
        "res.loc['Lahore', 'two']"
      ]
    },
    {
      "cell_type": "code",
      "execution_count": null,
      "id": "bab52f26-0bc7-4e7b-acda-8185f0132cb1",
      "metadata": {
        "id": "bab52f26-0bc7-4e7b-acda-8185f0132cb1",
        "outputId": "07b393bd-ec9b-47fc-e43a-4d73d0306277"
      },
      "outputs": [
        {
          "data": {
            "text/plain": [
              "Lahore     2\n",
              "Karachi    5\n",
              "dtype: int32"
            ]
          },
          "execution_count": 46,
          "metadata": {},
          "output_type": "execute_result"
        }
      ],
      "source": [
        "res.loc[:, 'two']"
      ]
    },
    {
      "cell_type": "code",
      "execution_count": null,
      "id": "a7dfcc22-e2cc-43f1-8f04-5dc69998fe68",
      "metadata": {
        "id": "a7dfcc22-e2cc-43f1-8f04-5dc69998fe68",
        "outputId": "8821b801-8e84-435b-bdbf-8392e6e1182c"
      },
      "outputs": [
        {
          "data": {
            "text/html": [
              "<div>\n",
              "<style scoped>\n",
              "    .dataframe tbody tr th:only-of-type {\n",
              "        vertical-align: middle;\n",
              "    }\n",
              "\n",
              "    .dataframe tbody tr th {\n",
              "        vertical-align: top;\n",
              "    }\n",
              "\n",
              "    .dataframe thead th {\n",
              "        text-align: right;\n",
              "    }\n",
              "</style>\n",
              "<table border=\"1\" class=\"dataframe\">\n",
              "  <thead>\n",
              "    <tr style=\"text-align: right;\">\n",
              "      <th></th>\n",
              "      <th>one</th>\n",
              "      <th>two</th>\n",
              "      <th>three</th>\n",
              "    </tr>\n",
              "  </thead>\n",
              "  <tbody>\n",
              "    <tr>\n",
              "      <th>Lahore</th>\n",
              "      <td>1</td>\n",
              "      <td>2</td>\n",
              "      <td>3</td>\n",
              "    </tr>\n",
              "    <tr>\n",
              "      <th>Karachi</th>\n",
              "      <td>4</td>\n",
              "      <td>5</td>\n",
              "      <td>6</td>\n",
              "    </tr>\n",
              "  </tbody>\n",
              "</table>\n",
              "</div>"
            ],
            "text/plain": [
              "         one  two  three\n",
              "Lahore     1    2      3\n",
              "Karachi    4    5      6"
            ]
          },
          "execution_count": 47,
          "metadata": {},
          "output_type": "execute_result"
        }
      ],
      "source": [
        "# unstack\n",
        "\n",
        "res.unstack()"
      ]
    },
    {
      "cell_type": "markdown",
      "id": "b70341c1-b98d-4884-b54d-d00d2579a229",
      "metadata": {
        "id": "b70341c1-b98d-4884-b54d-d00d2579a229"
      },
      "source": [
        "**Grouping**"
      ]
    },
    {
      "cell_type": "code",
      "execution_count": null,
      "id": "7eb69b0c-b657-4474-823b-8339b91e0aec",
      "metadata": {
        "id": "7eb69b0c-b657-4474-823b-8339b91e0aec",
        "outputId": "f5f1f57b-4027-4204-8f14-496fc6048f3b"
      },
      "outputs": [
        {
          "data": {
            "text/html": [
              "<div>\n",
              "<style scoped>\n",
              "    .dataframe tbody tr th:only-of-type {\n",
              "        vertical-align: middle;\n",
              "    }\n",
              "\n",
              "    .dataframe tbody tr th {\n",
              "        vertical-align: top;\n",
              "    }\n",
              "\n",
              "    .dataframe thead th {\n",
              "        text-align: right;\n",
              "    }\n",
              "</style>\n",
              "<table border=\"1\" class=\"dataframe\">\n",
              "  <thead>\n",
              "    <tr style=\"text-align: right;\">\n",
              "      <th></th>\n",
              "      <th>Province</th>\n",
              "      <th>City</th>\n",
              "      <th>Population</th>\n",
              "    </tr>\n",
              "  </thead>\n",
              "  <tbody>\n",
              "    <tr>\n",
              "      <th>0</th>\n",
              "      <td>Punjab</td>\n",
              "      <td>Lahore</td>\n",
              "      <td>150</td>\n",
              "    </tr>\n",
              "    <tr>\n",
              "      <th>1</th>\n",
              "      <td>Punjab</td>\n",
              "      <td>Faisalabad</td>\n",
              "      <td>120</td>\n",
              "    </tr>\n",
              "    <tr>\n",
              "      <th>2</th>\n",
              "      <td>Sindh</td>\n",
              "      <td>Karachi</td>\n",
              "      <td>200</td>\n",
              "    </tr>\n",
              "    <tr>\n",
              "      <th>3</th>\n",
              "      <td>KP</td>\n",
              "      <td>Peshawar</td>\n",
              "      <td>100</td>\n",
              "    </tr>\n",
              "    <tr>\n",
              "      <th>4</th>\n",
              "      <td>Sindh</td>\n",
              "      <td>Hyderabad</td>\n",
              "      <td>100</td>\n",
              "    </tr>\n",
              "    <tr>\n",
              "      <th>5</th>\n",
              "      <td>Baluchistan</td>\n",
              "      <td>Quetta</td>\n",
              "      <td>25</td>\n",
              "    </tr>\n",
              "  </tbody>\n",
              "</table>\n",
              "</div>"
            ],
            "text/plain": [
              "      Province        City  Population\n",
              "0       Punjab      Lahore         150\n",
              "1       Punjab  Faisalabad         120\n",
              "2        Sindh     Karachi         200\n",
              "3           KP    Peshawar         100\n",
              "4        Sindh   Hyderabad         100\n",
              "5  Baluchistan      Quetta          25"
            ]
          },
          "execution_count": 48,
          "metadata": {},
          "output_type": "execute_result"
        }
      ],
      "source": [
        "df = pd.DataFrame({\n",
        "    'Province': ['Punjab', 'Punjab', 'Sindh', 'KP', 'Sindh', 'Baluchistan'],\n",
        "    'City': ['Lahore', 'Faisalabad', 'Karachi', 'Peshawar', 'Hyderabad', 'Quetta'],\n",
        "    'Population': [150, 120, 200, 100, 100, 25],\n",
        "})\n",
        "df"
      ]
    },
    {
      "cell_type": "code",
      "execution_count": null,
      "id": "d49aa90b-2290-4104-8d1f-e3939b07dff3",
      "metadata": {
        "id": "d49aa90b-2290-4104-8d1f-e3939b07dff3",
        "outputId": "2cc27bb0-7fad-48aa-a259-6f5d3ad8974f"
      },
      "outputs": [
        {
          "data": {
            "text/html": [
              "<div>\n",
              "<style scoped>\n",
              "    .dataframe tbody tr th:only-of-type {\n",
              "        vertical-align: middle;\n",
              "    }\n",
              "\n",
              "    .dataframe tbody tr th {\n",
              "        vertical-align: top;\n",
              "    }\n",
              "\n",
              "    .dataframe thead th {\n",
              "        text-align: right;\n",
              "    }\n",
              "</style>\n",
              "<table border=\"1\" class=\"dataframe\">\n",
              "  <thead>\n",
              "    <tr style=\"text-align: right;\">\n",
              "      <th></th>\n",
              "      <th>Province</th>\n",
              "      <th>City</th>\n",
              "      <th>Population</th>\n",
              "    </tr>\n",
              "  </thead>\n",
              "  <tbody>\n",
              "    <tr>\n",
              "      <th>0</th>\n",
              "      <td>Punjab</td>\n",
              "      <td>Lahore</td>\n",
              "      <td>150</td>\n",
              "    </tr>\n",
              "    <tr>\n",
              "      <th>1</th>\n",
              "      <td>Punjab</td>\n",
              "      <td>Faisalabad</td>\n",
              "      <td>120</td>\n",
              "    </tr>\n",
              "  </tbody>\n",
              "</table>\n",
              "</div>"
            ],
            "text/plain": [
              "  Province        City  Population\n",
              "0   Punjab      Lahore         150\n",
              "1   Punjab  Faisalabad         120"
            ]
          },
          "execution_count": 50,
          "metadata": {},
          "output_type": "execute_result"
        }
      ],
      "source": [
        "df[df['Province'] == 'Punjab']"
      ]
    },
    {
      "cell_type": "code",
      "execution_count": null,
      "id": "c17d970e-6737-4fed-9760-30b5601de311",
      "metadata": {
        "id": "c17d970e-6737-4fed-9760-30b5601de311"
      },
      "outputs": [],
      "source": [
        "# groupby\n",
        "\n",
        "groupby = df.groupby(df['Province'])"
      ]
    },
    {
      "cell_type": "code",
      "execution_count": null,
      "id": "b1225840-40c8-4394-8569-b438cb0467fe",
      "metadata": {
        "id": "b1225840-40c8-4394-8569-b438cb0467fe",
        "outputId": "575319d9-52c3-485a-a99b-0e952d48db88"
      },
      "outputs": [
        {
          "data": {
            "text/html": [
              "<div>\n",
              "<style scoped>\n",
              "    .dataframe tbody tr th:only-of-type {\n",
              "        vertical-align: middle;\n",
              "    }\n",
              "\n",
              "    .dataframe tbody tr th {\n",
              "        vertical-align: top;\n",
              "    }\n",
              "\n",
              "    .dataframe thead th {\n",
              "        text-align: right;\n",
              "    }\n",
              "</style>\n",
              "<table border=\"1\" class=\"dataframe\">\n",
              "  <thead>\n",
              "    <tr style=\"text-align: right;\">\n",
              "      <th></th>\n",
              "      <th>City</th>\n",
              "      <th>Population</th>\n",
              "    </tr>\n",
              "    <tr>\n",
              "      <th>Province</th>\n",
              "      <th></th>\n",
              "      <th></th>\n",
              "    </tr>\n",
              "  </thead>\n",
              "  <tbody>\n",
              "    <tr>\n",
              "      <th>Baluchistan</th>\n",
              "      <td>1</td>\n",
              "      <td>1</td>\n",
              "    </tr>\n",
              "    <tr>\n",
              "      <th>KP</th>\n",
              "      <td>1</td>\n",
              "      <td>1</td>\n",
              "    </tr>\n",
              "    <tr>\n",
              "      <th>Punjab</th>\n",
              "      <td>2</td>\n",
              "      <td>2</td>\n",
              "    </tr>\n",
              "    <tr>\n",
              "      <th>Sindh</th>\n",
              "      <td>2</td>\n",
              "      <td>2</td>\n",
              "    </tr>\n",
              "  </tbody>\n",
              "</table>\n",
              "</div>"
            ],
            "text/plain": [
              "             City  Population\n",
              "Province                     \n",
              "Baluchistan     1           1\n",
              "KP              1           1\n",
              "Punjab          2           2\n",
              "Sindh           2           2"
            ]
          },
          "execution_count": 53,
          "metadata": {},
          "output_type": "execute_result"
        }
      ],
      "source": [
        "# count\n",
        "\n",
        "groupby.count()"
      ]
    },
    {
      "cell_type": "code",
      "execution_count": null,
      "id": "7b222ad5-8679-4c95-84f1-6a16418b6dd6",
      "metadata": {
        "id": "7b222ad5-8679-4c95-84f1-6a16418b6dd6",
        "outputId": "e9b9498a-93c0-427d-a499-a379af579f0e"
      },
      "outputs": [
        {
          "name": "stdout",
          "output_type": "stream",
          "text": [
            "Baluchistan\n",
            "      Province    City  Population\n",
            "5  Baluchistan  Quetta          25\n",
            "KP\n",
            "  Province      City  Population\n",
            "3       KP  Peshawar         100\n",
            "Punjab\n",
            "  Province        City  Population\n",
            "0   Punjab      Lahore         150\n",
            "1   Punjab  Faisalabad         120\n",
            "Sindh\n",
            "  Province       City  Population\n",
            "2    Sindh    Karachi         200\n",
            "4    Sindh  Hyderabad         100\n"
          ]
        }
      ],
      "source": [
        "# iteration\n",
        "\n",
        "for name, values in groupby:\n",
        "    print(name)\n",
        "    print(values)\n"
      ]
    },
    {
      "cell_type": "code",
      "execution_count": null,
      "id": "3869734d-04e7-4248-baf2-2dd508a5b959",
      "metadata": {
        "id": "3869734d-04e7-4248-baf2-2dd508a5b959",
        "outputId": "e47526b6-368e-4ec8-a851-87eef170ac2f"
      },
      "outputs": [
        {
          "data": {
            "text/plain": [
              "Province\n",
              "Baluchistan     25.0\n",
              "KP             100.0\n",
              "Punjab         135.0\n",
              "Sindh          150.0\n",
              "Name: Population, dtype: float64"
            ]
          },
          "execution_count": 57,
          "metadata": {},
          "output_type": "execute_result"
        }
      ],
      "source": [
        "# aggregation functions\n",
        "\n",
        "groupby['Population'].sum()\n",
        "groupby['Population'].mean()"
      ]
    },
    {
      "cell_type": "code",
      "execution_count": null,
      "id": "dead0496-1039-4940-bd2b-294f98323893",
      "metadata": {
        "id": "dead0496-1039-4940-bd2b-294f98323893",
        "outputId": "028fb607-1f0d-414e-a5ce-f4fb40840b9e"
      },
      "outputs": [
        {
          "data": {
            "text/plain": [
              "Province\n",
              "Baluchistan     75\n",
              "KP             150\n",
              "Punjab         320\n",
              "Sindh          350\n",
              "Name: Population, dtype: int64"
            ]
          },
          "execution_count": 59,
          "metadata": {},
          "output_type": "execute_result"
        }
      ],
      "source": [
        "# custom aggregators - agg\n",
        "\n",
        "def summation(arr):\n",
        "    return np.sum(arr) + 50\n",
        "\n",
        "groupby['Population'].agg(summation)"
      ]
    },
    {
      "cell_type": "markdown",
      "id": "d9954c37-25b4-423b-9959-ee6d384804cf",
      "metadata": {
        "id": "d9954c37-25b4-423b-9959-ee6d384804cf"
      },
      "source": [
        "**Exercise - Foods.csv**"
      ]
    },
    {
      "cell_type": "code",
      "execution_count": null,
      "id": "59b3f4f5-2dbe-4c8c-8fd1-8e12b9f3696c",
      "metadata": {
        "id": "59b3f4f5-2dbe-4c8c-8fd1-8e12b9f3696c",
        "outputId": "234cfcbf-1395-4a42-d536-ea6be0197ce5"
      },
      "outputs": [
        {
          "data": {
            "text/html": [
              "<div>\n",
              "<style scoped>\n",
              "    .dataframe tbody tr th:only-of-type {\n",
              "        vertical-align: middle;\n",
              "    }\n",
              "\n",
              "    .dataframe tbody tr th {\n",
              "        vertical-align: top;\n",
              "    }\n",
              "\n",
              "    .dataframe thead th {\n",
              "        text-align: right;\n",
              "    }\n",
              "</style>\n",
              "<table border=\"1\" class=\"dataframe\">\n",
              "  <thead>\n",
              "    <tr style=\"text-align: right;\">\n",
              "      <th></th>\n",
              "      <th>FOOD NAME</th>\n",
              "      <th>SCIENTIFIC NAME</th>\n",
              "      <th>GROUP</th>\n",
              "      <th>SUB GROUP</th>\n",
              "    </tr>\n",
              "  </thead>\n",
              "  <tbody>\n",
              "    <tr>\n",
              "      <th>0</th>\n",
              "      <td>Angelica</td>\n",
              "      <td>Angelica keiskei</td>\n",
              "      <td>Herbs and Spices</td>\n",
              "      <td>Herbs</td>\n",
              "    </tr>\n",
              "    <tr>\n",
              "      <th>1</th>\n",
              "      <td>Savoy cabbage</td>\n",
              "      <td>Brassica oleracea var. sabauda</td>\n",
              "      <td>Vegetables</td>\n",
              "      <td>Cabbages</td>\n",
              "    </tr>\n",
              "    <tr>\n",
              "      <th>2</th>\n",
              "      <td>Silver linden</td>\n",
              "      <td>Tilia argentea</td>\n",
              "      <td>Herbs and Spices</td>\n",
              "      <td>Herbs</td>\n",
              "    </tr>\n",
              "    <tr>\n",
              "      <th>3</th>\n",
              "      <td>Kiwi</td>\n",
              "      <td>Actinidia chinensis</td>\n",
              "      <td>Fruits</td>\n",
              "      <td>Tropical fruits</td>\n",
              "    </tr>\n",
              "    <tr>\n",
              "      <th>4</th>\n",
              "      <td>Allium (Onion)</td>\n",
              "      <td>Allium</td>\n",
              "      <td>Vegetables</td>\n",
              "      <td>Onion-family vegetables</td>\n",
              "    </tr>\n",
              "  </tbody>\n",
              "</table>\n",
              "</div>"
            ],
            "text/plain": [
              "        FOOD NAME                 SCIENTIFIC NAME             GROUP  \\\n",
              "0        Angelica                Angelica keiskei  Herbs and Spices   \n",
              "1   Savoy cabbage  Brassica oleracea var. sabauda        Vegetables   \n",
              "2   Silver linden                  Tilia argentea  Herbs and Spices   \n",
              "3            Kiwi             Actinidia chinensis            Fruits   \n",
              "4  Allium (Onion)                          Allium        Vegetables   \n",
              "\n",
              "                 SUB GROUP  \n",
              "0                    Herbs  \n",
              "1                 Cabbages  \n",
              "2                    Herbs  \n",
              "3          Tropical fruits  \n",
              "4  Onion-family vegetables  "
            ]
          },
          "execution_count": 73,
          "metadata": {},
          "output_type": "execute_result"
        }
      ],
      "source": [
        "df = pd.read_csv('foods.csv')\n",
        "df.head()"
      ]
    },
    {
      "cell_type": "code",
      "execution_count": null,
      "id": "d070d911-af21-46c7-82a7-071e4fcbc096",
      "metadata": {
        "id": "d070d911-af21-46c7-82a7-071e4fcbc096",
        "outputId": "9c651b95-2e2d-4be5-dcb5-09411d2beb9d"
      },
      "outputs": [
        {
          "data": {
            "text/plain": [
              "Index(['FOOD NAME', 'SCIENTIFIC NAME', 'GROUP', 'SUB GROUP'], dtype='object')"
            ]
          },
          "execution_count": 61,
          "metadata": {},
          "output_type": "execute_result"
        }
      ],
      "source": [
        "df.columns"
      ]
    },
    {
      "cell_type": "code",
      "execution_count": null,
      "id": "c2eda9ed-1245-492b-b399-c69034994267",
      "metadata": {
        "id": "c2eda9ed-1245-492b-b399-c69034994267",
        "outputId": "a65d5d12-a327-48c4-db1c-4bae5b44f38f"
      },
      "outputs": [
        {
          "data": {
            "text/html": [
              "<div>\n",
              "<style scoped>\n",
              "    .dataframe tbody tr th:only-of-type {\n",
              "        vertical-align: middle;\n",
              "    }\n",
              "\n",
              "    .dataframe tbody tr th {\n",
              "        vertical-align: top;\n",
              "    }\n",
              "\n",
              "    .dataframe thead th {\n",
              "        text-align: right;\n",
              "    }\n",
              "</style>\n",
              "<table border=\"1\" class=\"dataframe\">\n",
              "  <thead>\n",
              "    <tr style=\"text-align: right;\">\n",
              "      <th></th>\n",
              "      <th>FOOD NAME</th>\n",
              "      <th>SCIENTIFIC NAME</th>\n",
              "      <th>GROUP</th>\n",
              "      <th>SUB GROUP</th>\n",
              "    </tr>\n",
              "  </thead>\n",
              "  <tbody>\n",
              "    <tr>\n",
              "      <th>count</th>\n",
              "      <td>907</td>\n",
              "      <td>648</td>\n",
              "      <td>907</td>\n",
              "      <td>907</td>\n",
              "    </tr>\n",
              "    <tr>\n",
              "      <th>unique</th>\n",
              "      <td>907</td>\n",
              "      <td>639</td>\n",
              "      <td>24</td>\n",
              "      <td>123</td>\n",
              "    </tr>\n",
              "    <tr>\n",
              "      <th>top</th>\n",
              "      <td>Angelica</td>\n",
              "      <td>Capsicum annuum</td>\n",
              "      <td>Aquatic foods</td>\n",
              "      <td>Fishes</td>\n",
              "    </tr>\n",
              "    <tr>\n",
              "      <th>freq</th>\n",
              "      <td>1</td>\n",
              "      <td>6</td>\n",
              "      <td>166</td>\n",
              "      <td>111</td>\n",
              "    </tr>\n",
              "  </tbody>\n",
              "</table>\n",
              "</div>"
            ],
            "text/plain": [
              "       FOOD NAME  SCIENTIFIC NAME          GROUP SUB GROUP\n",
              "count        907              648            907       907\n",
              "unique       907              639             24       123\n",
              "top     Angelica  Capsicum annuum  Aquatic foods    Fishes\n",
              "freq           1                6            166       111"
            ]
          },
          "execution_count": 62,
          "metadata": {},
          "output_type": "execute_result"
        }
      ],
      "source": [
        "df.describe()"
      ]
    },
    {
      "cell_type": "code",
      "execution_count": null,
      "id": "cdebc5cd-b90e-42c1-b6fc-a2f7100f8695",
      "metadata": {
        "id": "cdebc5cd-b90e-42c1-b6fc-a2f7100f8695",
        "outputId": "0ce45d03-9e3b-4277-d1b1-2fbab8c1b245"
      },
      "outputs": [
        {
          "data": {
            "text/plain": [
              "FOOD NAME            0\n",
              "SCIENTIFIC NAME    259\n",
              "GROUP                0\n",
              "SUB GROUP            0\n",
              "dtype: int64"
            ]
          },
          "execution_count": 65,
          "metadata": {},
          "output_type": "execute_result"
        }
      ],
      "source": [
        "df.isna().sum()"
      ]
    },
    {
      "cell_type": "code",
      "execution_count": null,
      "id": "5b4ba0cb-62be-4958-8e22-824c06106658",
      "metadata": {
        "id": "5b4ba0cb-62be-4958-8e22-824c06106658"
      },
      "outputs": [],
      "source": [
        "df.loc[df['SCIENTIFIC NAME'].isna(), 'SCIENTIFIC NAME'] = \"Unknown\""
      ]
    },
    {
      "cell_type": "code",
      "execution_count": null,
      "id": "c0d0fb5d-9a9e-4b52-a049-9f31a7e04034",
      "metadata": {
        "id": "c0d0fb5d-9a9e-4b52-a049-9f31a7e04034",
        "outputId": "a82eadb7-2643-4e5d-f44f-682e8edba82a"
      },
      "outputs": [
        {
          "data": {
            "text/html": [
              "<div>\n",
              "<style scoped>\n",
              "    .dataframe tbody tr th:only-of-type {\n",
              "        vertical-align: middle;\n",
              "    }\n",
              "\n",
              "    .dataframe tbody tr th {\n",
              "        vertical-align: top;\n",
              "    }\n",
              "\n",
              "    .dataframe thead th {\n",
              "        text-align: right;\n",
              "    }\n",
              "</style>\n",
              "<table border=\"1\" class=\"dataframe\">\n",
              "  <thead>\n",
              "    <tr style=\"text-align: right;\">\n",
              "      <th></th>\n",
              "      <th>FOOD NAME</th>\n",
              "      <th>SCIENTIFIC NAME</th>\n",
              "      <th>GROUP</th>\n",
              "      <th>SUB GROUP</th>\n",
              "    </tr>\n",
              "  </thead>\n",
              "  <tbody>\n",
              "    <tr>\n",
              "      <th>902</th>\n",
              "      <td>Romaine lettuce</td>\n",
              "      <td>Lactuca sativa L. var. longifolia</td>\n",
              "      <td>Vegetables</td>\n",
              "      <td>Leaf vegetables</td>\n",
              "    </tr>\n",
              "    <tr>\n",
              "      <th>903</th>\n",
              "      <td>Cow milk, pasteurized, vitamin A + D added, 0%...</td>\n",
              "      <td>Unknown</td>\n",
              "      <td>Milk and milk products</td>\n",
              "      <td>Unfermented milks</td>\n",
              "    </tr>\n",
              "    <tr>\n",
              "      <th>904</th>\n",
              "      <td>Cow milk, pasteurized, vitamin A + D added, 1%...</td>\n",
              "      <td>Unknown</td>\n",
              "      <td>Milk and milk products</td>\n",
              "      <td>Unfermented milks</td>\n",
              "    </tr>\n",
              "    <tr>\n",
              "      <th>905</th>\n",
              "      <td>Cow milk, pasteurized, vitamin A + D added, 2%...</td>\n",
              "      <td>Unknown</td>\n",
              "      <td>Milk and milk products</td>\n",
              "      <td>Unfermented milks</td>\n",
              "    </tr>\n",
              "    <tr>\n",
              "      <th>906</th>\n",
              "      <td>Cow milk, pasteurized, vitamin D added, 3.25% fat</td>\n",
              "      <td>Unknown</td>\n",
              "      <td>Milk and milk products</td>\n",
              "      <td>Unfermented milks</td>\n",
              "    </tr>\n",
              "  </tbody>\n",
              "</table>\n",
              "</div>"
            ],
            "text/plain": [
              "                                             FOOD NAME  \\\n",
              "902                                    Romaine lettuce   \n",
              "903  Cow milk, pasteurized, vitamin A + D added, 0%...   \n",
              "904  Cow milk, pasteurized, vitamin A + D added, 1%...   \n",
              "905  Cow milk, pasteurized, vitamin A + D added, 2%...   \n",
              "906  Cow milk, pasteurized, vitamin D added, 3.25% fat   \n",
              "\n",
              "                       SCIENTIFIC NAME                   GROUP  \\\n",
              "902  Lactuca sativa L. var. longifolia              Vegetables   \n",
              "903                            Unknown  Milk and milk products   \n",
              "904                            Unknown  Milk and milk products   \n",
              "905                            Unknown  Milk and milk products   \n",
              "906                            Unknown  Milk and milk products   \n",
              "\n",
              "             SUB GROUP  \n",
              "902    Leaf vegetables  \n",
              "903  Unfermented milks  \n",
              "904  Unfermented milks  \n",
              "905  Unfermented milks  \n",
              "906  Unfermented milks  "
            ]
          },
          "execution_count": 77,
          "metadata": {},
          "output_type": "execute_result"
        }
      ],
      "source": [
        "df.tail()"
      ]
    },
    {
      "cell_type": "code",
      "execution_count": null,
      "id": "4f994c01-cec0-43a0-9fdc-b4448b71f91b",
      "metadata": {
        "id": "4f994c01-cec0-43a0-9fdc-b4448b71f91b",
        "outputId": "6a34337a-4ace-4f01-da03-728ad7cff4f3"
      },
      "outputs": [
        {
          "data": {
            "text/html": [
              "<div>\n",
              "<style scoped>\n",
              "    .dataframe tbody tr th:only-of-type {\n",
              "        vertical-align: middle;\n",
              "    }\n",
              "\n",
              "    .dataframe tbody tr th {\n",
              "        vertical-align: top;\n",
              "    }\n",
              "\n",
              "    .dataframe thead th {\n",
              "        text-align: right;\n",
              "    }\n",
              "</style>\n",
              "<table border=\"1\" class=\"dataframe\">\n",
              "  <thead>\n",
              "    <tr style=\"text-align: right;\">\n",
              "      <th></th>\n",
              "      <th>FOOD NAME</th>\n",
              "      <th>SCIENTIFIC NAME</th>\n",
              "      <th>GROUP</th>\n",
              "      <th>SUB GROUP</th>\n",
              "    </tr>\n",
              "  </thead>\n",
              "  <tbody>\n",
              "    <tr>\n",
              "      <th>count</th>\n",
              "      <td>907</td>\n",
              "      <td>907</td>\n",
              "      <td>907</td>\n",
              "      <td>907</td>\n",
              "    </tr>\n",
              "    <tr>\n",
              "      <th>unique</th>\n",
              "      <td>907</td>\n",
              "      <td>640</td>\n",
              "      <td>24</td>\n",
              "      <td>123</td>\n",
              "    </tr>\n",
              "    <tr>\n",
              "      <th>top</th>\n",
              "      <td>Angelica</td>\n",
              "      <td>Unknown</td>\n",
              "      <td>Aquatic foods</td>\n",
              "      <td>Fishes</td>\n",
              "    </tr>\n",
              "    <tr>\n",
              "      <th>freq</th>\n",
              "      <td>1</td>\n",
              "      <td>259</td>\n",
              "      <td>166</td>\n",
              "      <td>111</td>\n",
              "    </tr>\n",
              "  </tbody>\n",
              "</table>\n",
              "</div>"
            ],
            "text/plain": [
              "       FOOD NAME SCIENTIFIC NAME          GROUP SUB GROUP\n",
              "count        907             907            907       907\n",
              "unique       907             640             24       123\n",
              "top     Angelica         Unknown  Aquatic foods    Fishes\n",
              "freq           1             259            166       111"
            ]
          },
          "execution_count": 78,
          "metadata": {},
          "output_type": "execute_result"
        }
      ],
      "source": [
        "df.describe()"
      ]
    },
    {
      "cell_type": "code",
      "execution_count": null,
      "id": "9ed88e8a-d457-4fe3-9f22-942ec7550ab6",
      "metadata": {
        "id": "9ed88e8a-d457-4fe3-9f22-942ec7550ab6",
        "outputId": "7930d972-964f-4f33-b1c9-258de49d1a44"
      },
      "outputs": [
        {
          "data": {
            "text/html": [
              "<div>\n",
              "<style scoped>\n",
              "    .dataframe tbody tr th:only-of-type {\n",
              "        vertical-align: middle;\n",
              "    }\n",
              "\n",
              "    .dataframe tbody tr th {\n",
              "        vertical-align: top;\n",
              "    }\n",
              "\n",
              "    .dataframe thead th {\n",
              "        text-align: right;\n",
              "    }\n",
              "</style>\n",
              "<table border=\"1\" class=\"dataframe\">\n",
              "  <thead>\n",
              "    <tr style=\"text-align: right;\">\n",
              "      <th></th>\n",
              "      <th>FOOD NAME</th>\n",
              "      <th>SCIENTIFIC NAME</th>\n",
              "      <th>SUB GROUP</th>\n",
              "    </tr>\n",
              "    <tr>\n",
              "      <th>GROUP</th>\n",
              "      <th></th>\n",
              "      <th></th>\n",
              "      <th></th>\n",
              "    </tr>\n",
              "  </thead>\n",
              "  <tbody>\n",
              "    <tr>\n",
              "      <th>Animal foods</th>\n",
              "      <td>44</td>\n",
              "      <td>44</td>\n",
              "      <td>44</td>\n",
              "    </tr>\n",
              "    <tr>\n",
              "      <th>Aquatic foods</th>\n",
              "      <td>166</td>\n",
              "      <td>166</td>\n",
              "      <td>166</td>\n",
              "    </tr>\n",
              "    <tr>\n",
              "      <th>Baby foods</th>\n",
              "      <td>1</td>\n",
              "      <td>1</td>\n",
              "      <td>1</td>\n",
              "    </tr>\n",
              "    <tr>\n",
              "      <th>Baking goods</th>\n",
              "      <td>33</td>\n",
              "      <td>33</td>\n",
              "      <td>33</td>\n",
              "    </tr>\n",
              "    <tr>\n",
              "      <th>Beverages</th>\n",
              "      <td>30</td>\n",
              "      <td>30</td>\n",
              "      <td>30</td>\n",
              "    </tr>\n",
              "    <tr>\n",
              "      <th>Cereals and cereal products</th>\n",
              "      <td>48</td>\n",
              "      <td>48</td>\n",
              "      <td>48</td>\n",
              "    </tr>\n",
              "    <tr>\n",
              "      <th>Cocoa and cocoa products</th>\n",
              "      <td>8</td>\n",
              "      <td>8</td>\n",
              "      <td>8</td>\n",
              "    </tr>\n",
              "    <tr>\n",
              "      <th>Coffee and coffee products</th>\n",
              "      <td>5</td>\n",
              "      <td>5</td>\n",
              "      <td>5</td>\n",
              "    </tr>\n",
              "    <tr>\n",
              "      <th>Confectioneries</th>\n",
              "      <td>29</td>\n",
              "      <td>29</td>\n",
              "      <td>29</td>\n",
              "    </tr>\n",
              "    <tr>\n",
              "      <th>Dishes</th>\n",
              "      <td>51</td>\n",
              "      <td>51</td>\n",
              "      <td>51</td>\n",
              "    </tr>\n",
              "    <tr>\n",
              "      <th>Eggs</th>\n",
              "      <td>1</td>\n",
              "      <td>1</td>\n",
              "      <td>1</td>\n",
              "    </tr>\n",
              "    <tr>\n",
              "      <th>Fats and oils</th>\n",
              "      <td>8</td>\n",
              "      <td>8</td>\n",
              "      <td>8</td>\n",
              "    </tr>\n",
              "    <tr>\n",
              "      <th>Fruits</th>\n",
              "      <td>130</td>\n",
              "      <td>130</td>\n",
              "      <td>130</td>\n",
              "    </tr>\n",
              "    <tr>\n",
              "      <th>Gourds</th>\n",
              "      <td>17</td>\n",
              "      <td>17</td>\n",
              "      <td>17</td>\n",
              "    </tr>\n",
              "    <tr>\n",
              "      <th>Herbs and Spices</th>\n",
              "      <td>108</td>\n",
              "      <td>108</td>\n",
              "      <td>108</td>\n",
              "    </tr>\n",
              "    <tr>\n",
              "      <th>Herbs and spices</th>\n",
              "      <td>1</td>\n",
              "      <td>1</td>\n",
              "      <td>1</td>\n",
              "    </tr>\n",
              "    <tr>\n",
              "      <th>Milk and milk products</th>\n",
              "      <td>23</td>\n",
              "      <td>23</td>\n",
              "      <td>23</td>\n",
              "    </tr>\n",
              "    <tr>\n",
              "      <th>Nuts</th>\n",
              "      <td>27</td>\n",
              "      <td>27</td>\n",
              "      <td>27</td>\n",
              "    </tr>\n",
              "    <tr>\n",
              "      <th>Pulses</th>\n",
              "      <td>26</td>\n",
              "      <td>26</td>\n",
              "      <td>26</td>\n",
              "    </tr>\n",
              "    <tr>\n",
              "      <th>Snack foods</th>\n",
              "      <td>8</td>\n",
              "      <td>8</td>\n",
              "      <td>8</td>\n",
              "    </tr>\n",
              "    <tr>\n",
              "      <th>Soy</th>\n",
              "      <td>9</td>\n",
              "      <td>9</td>\n",
              "      <td>9</td>\n",
              "    </tr>\n",
              "    <tr>\n",
              "      <th>Teas</th>\n",
              "      <td>3</td>\n",
              "      <td>3</td>\n",
              "      <td>3</td>\n",
              "    </tr>\n",
              "    <tr>\n",
              "      <th>Unclassified</th>\n",
              "      <td>1</td>\n",
              "      <td>1</td>\n",
              "      <td>1</td>\n",
              "    </tr>\n",
              "    <tr>\n",
              "      <th>Vegetables</th>\n",
              "      <td>130</td>\n",
              "      <td>130</td>\n",
              "      <td>130</td>\n",
              "    </tr>\n",
              "  </tbody>\n",
              "</table>\n",
              "</div>"
            ],
            "text/plain": [
              "                             FOOD NAME  SCIENTIFIC NAME  SUB GROUP\n",
              "GROUP                                                             \n",
              "Animal foods                        44               44         44\n",
              "Aquatic foods                      166              166        166\n",
              "Baby foods                           1                1          1\n",
              "Baking goods                        33               33         33\n",
              "Beverages                           30               30         30\n",
              "Cereals and cereal products         48               48         48\n",
              "Cocoa and cocoa products             8                8          8\n",
              "Coffee and coffee products           5                5          5\n",
              "Confectioneries                     29               29         29\n",
              "Dishes                              51               51         51\n",
              "Eggs                                 1                1          1\n",
              "Fats and oils                        8                8          8\n",
              "Fruits                             130              130        130\n",
              "Gourds                              17               17         17\n",
              "Herbs and Spices                   108              108        108\n",
              "Herbs and spices                     1                1          1\n",
              "Milk and milk products              23               23         23\n",
              "Nuts                                27               27         27\n",
              "Pulses                              26               26         26\n",
              "Snack foods                          8                8          8\n",
              "Soy                                  9                9          9\n",
              "Teas                                 3                3          3\n",
              "Unclassified                         1                1          1\n",
              "Vegetables                         130              130        130"
            ]
          },
          "execution_count": 79,
          "metadata": {},
          "output_type": "execute_result"
        }
      ],
      "source": [
        "df.groupby(df['GROUP']).count()"
      ]
    },
    {
      "cell_type": "code",
      "execution_count": null,
      "id": "0dbea2f5-a105-43be-b827-84e4183efa9f",
      "metadata": {
        "id": "0dbea2f5-a105-43be-b827-84e4183efa9f"
      },
      "outputs": [],
      "source": [
        "df[\"FOOD NAME\"] = df[\"FOOD NAME\"].str.split(',').str[0]"
      ]
    },
    {
      "cell_type": "code",
      "execution_count": null,
      "id": "7e1010ae-c720-4367-82da-9a5df29354ef",
      "metadata": {
        "id": "7e1010ae-c720-4367-82da-9a5df29354ef",
        "outputId": "e6228f9c-16bd-4c92-bfe9-ccf0f96e1865"
      },
      "outputs": [
        {
          "data": {
            "text/html": [
              "<div>\n",
              "<style scoped>\n",
              "    .dataframe tbody tr th:only-of-type {\n",
              "        vertical-align: middle;\n",
              "    }\n",
              "\n",
              "    .dataframe tbody tr th {\n",
              "        vertical-align: top;\n",
              "    }\n",
              "\n",
              "    .dataframe thead th {\n",
              "        text-align: right;\n",
              "    }\n",
              "</style>\n",
              "<table border=\"1\" class=\"dataframe\">\n",
              "  <thead>\n",
              "    <tr style=\"text-align: right;\">\n",
              "      <th></th>\n",
              "      <th>FOOD NAME</th>\n",
              "      <th>SCIENTIFIC NAME</th>\n",
              "      <th>GROUP</th>\n",
              "      <th>SUB GROUP</th>\n",
              "    </tr>\n",
              "  </thead>\n",
              "  <tbody>\n",
              "    <tr>\n",
              "      <th>902</th>\n",
              "      <td>Romaine lettuce</td>\n",
              "      <td>Lactuca sativa L. var. longifolia</td>\n",
              "      <td>Vegetables</td>\n",
              "      <td>Leaf vegetables</td>\n",
              "    </tr>\n",
              "    <tr>\n",
              "      <th>903</th>\n",
              "      <td>Cow milk</td>\n",
              "      <td>Unknown</td>\n",
              "      <td>Milk and milk products</td>\n",
              "      <td>Unfermented milks</td>\n",
              "    </tr>\n",
              "    <tr>\n",
              "      <th>904</th>\n",
              "      <td>Cow milk</td>\n",
              "      <td>Unknown</td>\n",
              "      <td>Milk and milk products</td>\n",
              "      <td>Unfermented milks</td>\n",
              "    </tr>\n",
              "    <tr>\n",
              "      <th>905</th>\n",
              "      <td>Cow milk</td>\n",
              "      <td>Unknown</td>\n",
              "      <td>Milk and milk products</td>\n",
              "      <td>Unfermented milks</td>\n",
              "    </tr>\n",
              "    <tr>\n",
              "      <th>906</th>\n",
              "      <td>Cow milk</td>\n",
              "      <td>Unknown</td>\n",
              "      <td>Milk and milk products</td>\n",
              "      <td>Unfermented milks</td>\n",
              "    </tr>\n",
              "  </tbody>\n",
              "</table>\n",
              "</div>"
            ],
            "text/plain": [
              "           FOOD NAME                    SCIENTIFIC NAME  \\\n",
              "902  Romaine lettuce  Lactuca sativa L. var. longifolia   \n",
              "903         Cow milk                            Unknown   \n",
              "904         Cow milk                            Unknown   \n",
              "905         Cow milk                            Unknown   \n",
              "906         Cow milk                            Unknown   \n",
              "\n",
              "                      GROUP          SUB GROUP  \n",
              "902              Vegetables    Leaf vegetables  \n",
              "903  Milk and milk products  Unfermented milks  \n",
              "904  Milk and milk products  Unfermented milks  \n",
              "905  Milk and milk products  Unfermented milks  \n",
              "906  Milk and milk products  Unfermented milks  "
            ]
          },
          "execution_count": 96,
          "metadata": {},
          "output_type": "execute_result"
        }
      ],
      "source": [
        "df.tail()"
      ]
    },
    {
      "cell_type": "code",
      "execution_count": null,
      "id": "6c38f3c5-54f0-466e-ae15-1ab6cfa7f2e2",
      "metadata": {
        "id": "6c38f3c5-54f0-466e-ae15-1ab6cfa7f2e2"
      },
      "outputs": [],
      "source": []
    }
  ],
  "metadata": {
    "kernelspec": {
      "display_name": "Python 3 (ipykernel)",
      "language": "python",
      "name": "python3"
    },
    "language_info": {
      "codemirror_mode": {
        "name": "ipython",
        "version": 3
      },
      "file_extension": ".py",
      "mimetype": "text/x-python",
      "name": "python",
      "nbconvert_exporter": "python",
      "pygments_lexer": "ipython3",
      "version": "3.11.7"
    },
    "colab": {
      "provenance": []
    }
  },
  "nbformat": 4,
  "nbformat_minor": 5
}